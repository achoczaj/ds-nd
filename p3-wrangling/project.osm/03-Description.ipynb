{
 "cells": [
  {
   "cell_type": "markdown",
   "metadata": {},
   "source": [
    "Location: Jakarta\n",
    "Link: https://www.openstreetmap.org/node/299396320\n",
    "\n",
    "Short Description: I choose whole places of Jakarta. Jakarta is the\n",
    "capital of Indonesia.This dataset is huge, over 250,000 examples.\n",
    "\n",
    "Reason: It's my hometown, and i somewhat want to help the community."
   ]
  }
 ],
 "metadata": {
  "kernelspec": {
   "display_name": "Python 3",
   "language": "python",
   "name": "python3"
  },
  "language_info": {
   "codemirror_mode": {
    "name": "ipython",
    "version": 3
   },
   "file_extension": ".py",
   "mimetype": "text/x-python",
   "name": "python",
   "nbconvert_exporter": "python",
   "pygments_lexer": "ipython3",
   "version": "3.5.0"
  }
 },
 "nbformat": 4,
 "nbformat_minor": 0
}
