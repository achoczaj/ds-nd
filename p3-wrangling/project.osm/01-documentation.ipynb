{
 "cells": [
  {
   "cell_type": "markdown",
   "metadata": {},
   "source": [
    "OpenStreetMap is an open project, which means it's free and everyone can use it and edit as they like. OpenStreetMap is direct competitor of Google Maps. How OpenStreetMap can compete with the giant you ask? It's depend completely on crowd sourcing. There's lot of people willingly update the map around the world, most of them fix their map country. \n",
    "\n",
    "Openstreetmap is so powerful, and rely heavily on the human input. But its strength also the downfall. Everytime there's human input, there's always be human error.It's very error prone.\n",
    "<!-- TEASER_END -->"
   ]
  },
  {
   "cell_type": "markdown",
   "metadata": {},
   "source": [
    "# Problems Encountered in the Map"
   ]
  },
  {
   "cell_type": "markdown",
   "metadata": {},
   "source": [
    "Take the name of the street for example. People like to abbreviate the type of the street.\n",
    "Street become St. st. In Indonesia, 'Jalan'(Street-Eng), also abbreviated as Jln, jln, jl, Jln.\n",
    "It maybe get us less attention. But for someone as Data Scientist/Web Developer, they expect the street to have generic format. \n",
    "\n",
    "    'Jalan Sudirman' -> Jalan <name> -> name = Sudirman\n",
    "    'Jln Sudirman' -> Jalan <name> -> ERROR!\n",
    "    \n",
    "This project tends to fix that, it fix abbreviate name, so it can use more generalize type. Not only it's benefit for professional, But we can also can see more structured words. \n",
    "\n",
    "In this project, i want to show you to fix one type of error, that is the address of the street.\n",
    "I choose whole places of Jakarta. Jakarta is the capital of Indonesia.This dataset is huge, over 250,000 examples. It's my hometown, and i somewhat want to help the community.\n",
    "And not only that, i also will show you how to put the data that has been audited into MongoDB instance. We also use MongoDB's Agregation Framework to get overview and analysis of the data."
   ]
  },
  {
   "cell_type": "code",
   "execution_count": 8,
   "metadata": {
    "collapsed": false
   },
   "outputs": [],
   "source": [
    "OSM_FILE = 'jakarta.osm'"
   ]
  },
  {
   "cell_type": "code",
   "execution_count": 11,
   "metadata": {
    "collapsed": false
   },
   "outputs": [],
   "source": [
    "%load mapparser.py"
   ]
  },
  {
   "cell_type": "markdown",
   "metadata": {},
   "source": [
    "To audit the osm file, first we need to know the overview of the data.\n",
    "To get an overview of the data, we count the tag content of the data."
   ]
  },
  {
   "cell_type": "code",
   "execution_count": 14,
   "metadata": {
    "collapsed": false
   },
   "outputs": [],
   "source": [
    "%load users.py"
   ]
  },
  {
   "cell_type": "code",
   "execution_count": 2,
   "metadata": {
    "collapsed": false
   },
   "outputs": [],
   "source": [
    "import xml.etree.cElementTree as ET"
   ]
  },
  {
   "cell_type": "code",
   "execution_count": 1,
   "metadata": {
    "collapsed": false
   },
   "outputs": [],
   "source": [
    "%load audit.py"
   ]
  },
  {
   "cell_type": "markdown",
   "metadata": {},
   "source": [
    "This will save the jakarta osm that has been audited into jakarta_audit.osm\n",
    "Not let's prepare the audited file to be input to the MongoDB instance."
   ]
  },
  {
   "cell_type": "code",
   "execution_count": null,
   "metadata": {
    "collapsed": false
   },
   "outputs": [],
   "source": [
    "%load submission/data.py"
   ]
  },
  {
   "cell_type": "markdown",
   "metadata": {},
   "source": [
    "The processed map has ben saved to jakarta_audit.osm.json\n",
    "Now that we have process the audited map file into array of JSON, let's put it into mongodb instance.\n",
    "this will take the map that we have been audited.\n",
    "First we load the script to insert the map"
   ]
  },
  {
   "cell_type": "code",
   "execution_count": 3,
   "metadata": {
    "collapsed": false
   },
   "outputs": [],
   "source": [
    "from data import *\n",
    "import pprint"
   ]
  },
  {
   "cell_type": "code",
   "execution_count": 39,
   "metadata": {
    "collapsed": false
   },
   "outputs": [],
   "source": [
    "data = process_map('jakarta_audit.osm')"
   ]
  },
  {
   "cell_type": "markdown",
   "metadata": {},
   "source": [
    "Okay let's test if the data is something that we expect"
   ]
  },
  {
   "cell_type": "code",
   "execution_count": 33,
   "metadata": {
    "collapsed": false
   },
   "outputs": [
    {
     "name": "stdout",
     "output_type": "stream",
     "text": [
      "[{'created': {'changeset': '20029239',\n",
      "              'timestamp': '2014-01-16T08:18:23Z',\n",
      "              'uid': '646006',\n",
      "              'user': 'Irfan Muhammad',\n",
      "              'version': '13'},\n",
      "  'id': '29938967',\n",
      "  'pos': [-6.1803929, 106.8226699],\n",
      "  'type': 'node'},\n",
      " {'created': {'changeset': '20029239',\n",
      "              'timestamp': '2014-01-16T08:18:23Z',\n",
      "              'uid': '646006',\n",
      "              'user': 'Irfan Muhammad',\n",
      "              'version': '28'},\n",
      "  'id': '29938968',\n",
      "  'pos': [-6.1803972, 106.8231199],\n",
      "  'type': 'node'},\n",
      " {'created': {'changeset': '20029239',\n",
      "              'timestamp': '2014-01-16T08:18:23Z',\n",
      "              'uid': '646006',\n",
      "              'user': 'Irfan Muhammad',\n",
      "              'version': '9'},\n",
      "  'id': '29938969',\n",
      "  'pos': [-6.1809102, 106.8230928],\n",
      "  'type': 'node'},\n",
      " {'created': {'changeset': '20029239',\n",
      "              'timestamp': '2014-01-16T08:18:23Z',\n",
      "              'uid': '646006',\n",
      "              'user': 'Irfan Muhammad',\n",
      "              'version': '15'},\n",
      "  'id': '29938970',\n",
      "  'pos': [-6.1808689, 106.8226461],\n",
      "  'type': 'node'},\n",
      " {'created': {'changeset': '20029239',\n",
      "              'timestamp': '2014-01-16T08:18:23Z',\n",
      "              'uid': '646006',\n",
      "              'user': 'Irfan Muhammad',\n",
      "              'version': '10'},\n",
      "  'id': '29938971',\n",
      "  'pos': [-6.1805893, 106.8225613],\n",
      "  'type': 'node'},\n",
      " {'created': {'changeset': '20029239',\n",
      "              'timestamp': '2014-01-16T08:18:23Z',\n",
      "              'uid': '646006',\n",
      "              'user': 'Irfan Muhammad',\n",
      "              'version': '11'},\n",
      "  'id': '29938972',\n",
      "  'pos': [-6.1805659, 106.8232191],\n",
      "  'type': 'node'}]\n"
     ]
    }
   ],
   "source": [
    "pprint.pprint(data[0:6])"
   ]
  },
  {
   "cell_type": "markdown",
   "metadata": {},
   "source": [
    "The data seems about right.\n",
    "After we verified the data is ready, let's put it into MongoDB"
   ]
  },
  {
   "cell_type": "code",
   "execution_count": 4,
   "metadata": {
    "collapsed": true
   },
   "outputs": [],
   "source": [
    "from pymongo import MongoClient"
   ]
  },
  {
   "cell_type": "code",
   "execution_count": 5,
   "metadata": {
    "collapsed": false
   },
   "outputs": [],
   "source": [
    "client  = MongoClient('mongodb://localhost:27017')\n",
    "db = client.examples"
   ]
  },
  {
   "cell_type": "code",
   "execution_count": null,
   "metadata": {
    "collapsed": false
   },
   "outputs": [],
   "source": [
    "[db.jktosm.insert(e) for e in data]"
   ]
  },
  {
   "cell_type": "markdown",
   "metadata": {},
   "source": [
    "Okay, it seems that we have sucessfully insert all of our data into MongoDB instance.\n",
    "Let's test this"
   ]
  },
  {
   "cell_type": "code",
   "execution_count": 6,
   "metadata": {
    "collapsed": false
   },
   "outputs": [
    {
     "name": "stdout",
     "output_type": "stream",
     "text": [
      "[{u'_id': ObjectId('546d9d818cbd2f060eb432f2'),\n",
      "  u'created': {u'changeset': u'11134443',\n",
      "               u'timestamp': u'2012-03-29T07:25:28Z',\n",
      "               u'uid': u'642271',\n",
      "               u'user': u'ragunan',\n",
      "               u'version': u'1'},\n",
      "  u'id': u'1695812051',\n",
      "  u'pos': [-6.2949894, 106.8198961],\n",
      "  u'type': u'node'},\n",
      " {u'_id': ObjectId('546d9d818cbd2f060eb432f3'),\n",
      "  u'created': {u'changeset': u'11134443',\n",
      "               u'timestamp': u'2012-03-29T07:25:28Z',\n",
      "               u'uid': u'642271',\n",
      "               u'user': u'ragunan',\n",
      "               u'version': u'1'},\n",
      "  u'id': u'1695812052',\n",
      "  u'pos': [-6.2950642, 106.8199212],\n",
      "  u'type': u'node'},\n",
      " {u'_id': ObjectId('546d9d818cbd2f060eb432f4'),\n",
      "  u'created': {u'changeset': u'11134444',\n",
      "               u'timestamp': u'2012-03-29T07:25:27Z',\n",
      "               u'uid': u'642195',\n",
      "               u'user': u'tebet_timur',\n",
      "               u'version': u'1'},\n",
      "  u'id': u'1695812053',\n",
      "  u'pos': [-6.2300963, 106.855384],\n",
      "  u'type': u'node'},\n",
      " {u'_id': ObjectId('546d9d818cbd2f060eb432f5'),\n",
      "  u'created': {u'changeset': u'11134443',\n",
      "               u'timestamp': u'2012-03-29T07:25:28Z',\n",
      "               u'uid': u'642271',\n",
      "               u'user': u'ragunan',\n",
      "               u'version': u'1'},\n",
      "  u'id': u'1695812054',\n",
      "  u'pos': [-6.2950931, 106.8189926],\n",
      "  u'type': u'node'},\n",
      " {u'_id': ObjectId('546d9d818cbd2f060eb432f6'),\n",
      "  u'created': {u'changeset': u'11134444',\n",
      "               u'timestamp': u'2012-03-29T07:25:28Z',\n",
      "               u'uid': u'642195',\n",
      "               u'user': u'tebet_timur',\n",
      "               u'version': u'1'},\n",
      "  u'id': u'1695812055',\n",
      "  u'pos': [-6.2301173, 106.8553364],\n",
      "  u'type': u'node'},\n",
      " {u'_id': ObjectId('546d9d818cbd2f060eb432f7'),\n",
      "  u'created': {u'changeset': u'11134443',\n",
      "               u'timestamp': u'2012-03-29T07:25:28Z',\n",
      "               u'uid': u'642271',\n",
      "               u'user': u'ragunan',\n",
      "               u'version': u'1'},\n",
      "  u'id': u'1695812056',\n",
      "  u'pos': [-6.2950931, 106.8211174],\n",
      "  u'type': u'node'}]\n"
     ]
    }
   ],
   "source": [
    "pipeline = [\n",
    "    {'$limit' : 6}\n",
    "]\n",
    "pprint.pprint(db.jktosm.aggregate(pipeline)['result'])"
   ]
  },
  {
   "cell_type": "markdown",
   "metadata": {},
   "source": [
    "# Overview of the data"
   ]
  },
  {
   "cell_type": "markdown",
   "metadata": {},
   "source": [
    "### Show 5 data that have street "
   ]
  },
  {
   "cell_type": "code",
   "execution_count": 7,
   "metadata": {
    "collapsed": false
   },
   "outputs": [
    {
     "name": "stdout",
     "output_type": "stream",
     "text": [
      "[{u'_id': ObjectId('546d9d758cbd2f060eb3916d'),\n",
      "  u'address': {u'housename': u'Pasar Festival',\n",
      "               u'street': u'Jalan HR Rasuna Said'},\n",
      "  u'building': u'yes',\n",
      "  u'created': {u'changeset': u'16848088',\n",
      "               u'timestamp': u'2013-07-06T12:21:11Z',\n",
      "               u'uid': u'76518',\n",
      "               u'user': u'Firman Hadi',\n",
      "               u'version': u'2'},\n",
      "  u'id': u'1394516071',\n",
      "  u'leisure': u'sports_centre',\n",
      "  u'name': u'Soemantri Brojonegoro',\n",
      "  u'pos': [-6.2213611, 106.8329498],\n",
      "  u'sport': u'basketball',\n",
      "  u'type': u'node'},\n",
      " {u'_id': ObjectId('546d9d768cbd2f060eb39c64'),\n",
      "  u'address': {u'city': u'Jakarta',\n",
      "               u'country': u'ID',\n",
      "               u'housename': u'Meruvian Camp - Cempaka Baru',\n",
      "               u'housenumber': u'39',\n",
      "               u'street': u'Jalan Swadaya 2 No. 39'},\n",
      "  u'created': {u'changeset': u'9758314',\n",
      "               u'timestamp': u'2011-11-06T18:44:31Z',\n",
      "               u'uid': u'70696',\n",
      "               u'user': u'xybot',\n",
      "               u'version': u'2'},\n",
      "  u'id': u'1493006911',\n",
      "  u'pos': [-6.1700951, 106.8655072],\n",
      "  u'type': u'node'},\n",
      " {u'_id': ObjectId('546d9d6d8cbd2f060eb32173'),\n",
      "  u'address': {u'housename': u'Gandaria City',\n",
      "               u'postcode': u'12240',\n",
      "               u'street': u'Jalan Sultan Iskandar Muda Kebayoran Lama'},\n",
      "  u'created': {u'changeset': u'7760855',\n",
      "               u'timestamp': u'2011-04-04T04:16:03Z',\n",
      "               u'uid': u'431638',\n",
      "               u'user': u'esoedjasa',\n",
      "               u'version': u'1'},\n",
      "  u'id': u'1231819753',\n",
      "  u'name': u'Gandaria City',\n",
      "  u'pos': [-6.2446998, 106.7832904],\n",
      "  u'shop': u'supermarket',\n",
      "  u'type': u'node'},\n",
      " {u'_id': ObjectId('546d9d6d8cbd2f060eb323e9'),\n",
      "  u'address': {u'street': u'Jalan Sahari'},\n",
      "  u'created': {u'changeset': u'11638099',\n",
      "               u'timestamp': u'2012-05-18T22:26:16Z',\n",
      "               u'uid': u'445671',\n",
      "               u'user': u'flierfy',\n",
      "               u'version': u'2'},\n",
      "  u'highway': u'bus_stop',\n",
      "  u'id': u'1278972435',\n",
      "  u'name': u'Halte Sahari',\n",
      "  u'pos': [-6.1277779, 106.8464371],\n",
      "  u'type': u'node'},\n",
      " {u'_id': ObjectId('546d9d758cbd2f060eb39153'),\n",
      "  u'address': {u'housename': u'Pasar Festival',\n",
      "               u'housenumber': u'Kav C.22 Unit GF 05-06',\n",
      "               u'postcode': u'12960',\n",
      "               u'street': u'Jalan HR Rasuna Said'},\n",
      "  u'amenity': u'restaurant',\n",
      "  u'created': {u'changeset': u'10024298',\n",
      "               u'timestamp': u'2011-12-03T18:57:09Z',\n",
      "               u'uid': u'92274',\n",
      "               u'user': u'adjuva',\n",
      "               u'version': u'5'},\n",
      "  u'cuisine': u'Indonesian',\n",
      "  u'id': u'1394496957',\n",
      "  u'name': u'Warung Tekko',\n",
      "  u'phone': u'+62 21 5263137',\n",
      "  u'phone2': u'+62 21 5263278',\n",
      "  u'pos': [-6.2216971, 106.8328855],\n",
      "  u'type': u'node',\n",
      "  u'website': u'www.facebook.com/warungtekko'}]\n"
     ]
    }
   ],
   "source": [
    "pipeline = [\n",
    "            {'$match': {'address.street':{'$exists':1}}},\n",
    "            {'$limit' : 5}\n",
    "]\n",
    "result  = db.jktosm.aggregate(pipeline)['result']\n",
    "pprint.pprint(result)"
   ]
  },
  {
   "cell_type": "markdown",
   "metadata": {},
   "source": [
    "### Show the top 5 of contributed users"
   ]
  },
  {
   "cell_type": "markdown",
   "metadata": {},
   "source": [
    "We also can find the top 5 contributed users. These users are count by how they created the point in the map, and sort descent "
   ]
  },
  {
   "cell_type": "code",
   "execution_count": 45,
   "metadata": {
    "collapsed": false
   },
   "outputs": [
    {
     "name": "stdout",
     "output_type": "stream",
     "text": [
      "[{u'_id': u'Firman Hadi', u'count': 113770},\n",
      " {u'_id': u'dimdim02', u'count': 38860},\n",
      " {u'_id': u'riangga_miko', u'count': 36695},\n",
      " {u'_id': u'raniedwianugrah', u'count': 30388},\n",
      " {u'_id': u'Alex Rollin', u'count': 26496}]\n"
     ]
    }
   ],
   "source": [
    "pipeline = [\n",
    "            {'$match': {'created.user':{'$exists':1}}},\n",
    "            {'$group': {'_id':'$created.user',\n",
    "                        'count':{'$sum':1}}},\n",
    "            {'$sort': {'count':-1}},\n",
    "            {'$limit' : 5}\n",
    "]\n",
    "result  = db.jktosm.aggregate(pipeline)['result']\n",
    "pprint.pprint(result)"
   ]
  },
  {
   "cell_type": "markdown",
   "metadata": {},
   "source": [
    "### Show the restaurant's name, the food they serve, and contact number"
   ]
  },
  {
   "cell_type": "code",
   "execution_count": 9,
   "metadata": {
    "collapsed": false
   },
   "outputs": [
    {
     "name": "stdout",
     "output_type": "stream",
     "text": [
      "[{u'_id': u'Taman Hek'},\n",
      " {u'_id': u'3 House'},\n",
      " {u'_id': u'Jimbaran'},\n",
      " {u'_id': u'Death by Chocolate'},\n",
      " {u'_id': u\"McDonald's\"},\n",
      " {u'_id': u\"Chef's Kitchen\"},\n",
      " {u'_id': u'Planet Hollywood Jakarta', u'cuisine': u'american'},\n",
      " {u'_id': u'Soto kudus'},\n",
      " {u'_id': u'KFC Cikini', u'cuisine': u'chicken'},\n",
      " {u'_id': u'Mc Donald Cikini'},\n",
      " {u'_id': u'Pempek Cuko'},\n",
      " {u'_id': u'Warung Tekko',\n",
      "  u'contact': u'+62 21 5263137',\n",
      "  u'cuisine': u'Indonesian'},\n",
      " {u'_id': u'Kafe Betawi', u'cuisine': u'asian'},\n",
      " {u'_id': u'QBox Cafe', u'cuisine': u'asian'},\n",
      " {u'_id': u'Comics Cafe', u'cuisine': u'american'},\n",
      " {u'_id': u'Pizza Hut', u'cuisine': u'pizza'},\n",
      " {u'_id': u'Otel Lobby', u'cuisine': u'international'},\n",
      " {u'_id': u'Loewy', u'cuisine': u'french'},\n",
      " {u'_id': u'Food Court Passer Kuningan', u'cuisine': u'asian'},\n",
      " {u'_id': u'Pastis', u'cuisine': u'italian'},\n",
      " {u'_id': u'Pizza Hut', u'cuisine': u'pizza'},\n",
      " {u'_id': u'Dunkin donuts'},\n",
      " {u'_id': u'Warung Pasta'},\n",
      " {u'_id': u'Ayam Balphuss'},\n",
      " {u'_id': u'Riung Tenda'},\n",
      " {u'_id': u'Ayam Bakar Gilimanuk'},\n",
      " {u'_id': u'Ikan Bakar Banyuwangi'},\n",
      " {u'_id': u'Dim Sum Inc'},\n",
      " {u'_id': u'Heartz Chicken Buffet'},\n",
      " {u'_id': u'Ko he Noor'},\n",
      " {u'_id': u'de Resto'},\n",
      " {u'_id': u'Bakmi GM'},\n",
      " {u'_id': u'Caho Mung Qui Khach'},\n",
      " {u'_id': u'Dapur Melayu', u'cuisine': u'asian'},\n",
      " {u'_id': u'E Corner'},\n",
      " {u'_id': u'Ho Lung Sechan Cuisine', u'cuisine': u'asian'},\n",
      " {u'_id': u'Madam Kwok'},\n",
      " {u'_id': u'Mangotree Bistro'},\n",
      " {u'_id': u'Talaga'},\n",
      " {u'_id': u'Tgrill'},\n",
      " {u'_id': u'Usselsspring'},\n",
      " {u'_id': u'Eastern Promise'},\n",
      " {u'_id': u'Bubur Angke', u'cuisine': u'chinese'},\n",
      " {u'_id': u'Kembang Goela', u'cuisine': u'indonesia'},\n",
      " {u'_id': u'Kantin Mega Rasa', u'cuisine': u'indonesian'},\n",
      " {u'_id': u'Mbah Jingkrak Setiabudi', u'cuisine': u'indonesian'},\n",
      " {u'_id': u'Makan Babi'},\n",
      " {u'_id': u'3 house'},\n",
      " {u'_id': u'YaUdah bistro',\n",
      "  u'contact': u'+62213140343',\n",
      "  u'cuisine': u'german'},\n",
      " {u'_id': u'Mamink Daeng Tata', u'cuisine': u'regional'},\n",
      " {u'_id': u'Restoran Putri Duyung'},\n",
      " {u'_id': u'Le Bridge Restaurant'},\n",
      " {u'_id': u'Lanna Thai', u'cuisine': u'thai'},\n",
      " {u'_id': u'The Goods Diner'},\n",
      " {u'_id': u'Taco Local', u'cuisine': u'mexican'},\n",
      " {u'_id': u\"Chili's\", u'cuisine': u'american'},\n",
      " {u'_id': u'Hacienda ', u'cuisine': u'mexican'},\n",
      " {u'_id': u'Sederhana', u'cuisine': u'regional'},\n",
      " {u'_id': u'Dim Sum Restaurant', u'cuisine': u'international'},\n",
      " {u'_id': u'Warung Desa', u'cuisine': u'asian'},\n",
      " {u'_id': u'PEPeNERO'},\n",
      " {u'_id': u'Sakura Japanese Restaurant'},\n",
      " {u'_id': u'Pelangi Seafood ', u'cuisine': u'indonesian'},\n",
      " {u'_id': u'Restoran Kurnia Jaya'},\n",
      " {u'_id': u'Rumah Makan Padang Sederhana'},\n",
      " {u'_id': u'Wabito Ramen',\n",
      "  u'contact': u'62 21 3923810',\n",
      "  u'cuisine': u'japanese'},\n",
      " {u'_id': u'Rava House'},\n",
      " {u'_id': u'Musketeers'},\n",
      " {u'_id': u'Kebab Baba Rafi'},\n",
      " {u'_id': u'Bakul TUkul'},\n",
      " {u'_id': u'Nasi Bebek'},\n",
      " {u'_id': u'Ayam Panggang Rawamangun', u'cuisine': u'chicken'},\n",
      " {u'_id': u'Goma ramen', u'contact': u'081807217074', u'cuisine': u'japanese'},\n",
      " {u'_id': u'Takigawa', u'cuisine': u'Japanese'},\n",
      " {u'_id': u'Warung Pasta', u'cuisine': u'italian'},\n",
      " {u'_id': u'Rumah Solo'},\n",
      " {u'_id': u'Amigos', u'cuisine': u'mexican'},\n",
      " {u'_id': u'Amigos', u'cuisine': u'mexican'},\n",
      " {u'_id': u'Amigos', u'cuisine': u'mexican'},\n",
      " {u'_id': u'Koi'},\n",
      " {u'_id': u'sop janda', u'cuisine': u'regional'},\n",
      " {u'_id': u'Waroeng Kito', u'cuisine': u'chicken,_juice'},\n",
      " {u'_id': u'Sate Senayan'},\n",
      " {u'_id': u'Holy Cow'},\n",
      " {u'_id': u'Holy Cow'},\n",
      " {u'_id': u'MM Juice'},\n",
      " {u'_id': u'Abuba Steak'},\n",
      " {u'_id': u'Bubur Mangga Besar', u'cuisine': u'congee'},\n",
      " {u'_id': u'Pia Jakarta', u'cuisine': u'bakpia,hopia,pia'},\n",
      " {u'_id': u'Awen Seafood', u'cuisine': u'seafood'},\n",
      " {u'_id': u'Bluegrass',\n",
      "  u'contact': u'+62 21 29941660',\n",
      "  u'cuisine': u'american'},\n",
      " {u'_id': u'Warung Bang Hoody'},\n",
      " {u'_id': u'Bakmi Toko Tiga', u'cuisine': u'chinese'},\n",
      " {u'_id': u'Ayam Goreng Berkah Rachmat'},\n",
      " {u'_id': u'Ayam Goreng Suharti'},\n",
      " {u'_id': u'Bushido Restaurant'},\n",
      " {u'_id': u'Restoran Caping Gunung'},\n",
      " {u'_id': u'Bakso Lapangan tembak', u'cuisine': u'regional'},\n",
      " {u'_id': u'Baruna'},\n",
      " {u'_id': u'Pizza Hut Matraman', u'cuisine': u'pizza'},\n",
      " {u'_id': u'RM. Handayani'},\n",
      " {u'_id': u'kintamani'},\n",
      " {u'_id': u'sentral'},\n",
      " {u'_id': u'Kantin Umum', u'cuisine': u'variety_of_cuisines'},\n",
      " {u'_id': u'RM Raja Rasa', u'cuisine': u'regional'},\n",
      " {u'_id': u'RM Sederhana', u'cuisine': u'regional'},\n",
      " {u'_id': u'Sate Tomang', u'cuisine': u'regional'},\n",
      " {u'_id': u'warkop asep'},\n",
      " {u'_id': u'Iga Bakar Mas Giri', u'cuisine': u'regional'},\n",
      " {u'_id': u'Ayam Presto', u'cuisine': u'regional'},\n",
      " {u'_id': u'Masakan Rumah Ibu Endang', u'cuisine': u'regional'},\n",
      " {u'_id': u'Oenpao', u'cuisine': u'chinese'},\n",
      " {u'_id': u'rumah makan ibu ida'},\n",
      " {u'_id': u'fix me', u'cuisine': u'chinese'},\n",
      " {u'_id': u'Sederhana', u'cuisine': u'padang'},\n",
      " {u'_id': u'Saung Elbuston'},\n",
      " {u'_id': u'Rumah Makan Soto Betawi'},\n",
      " {u'_id': u'Warung Kopi'},\n",
      " {u'_id': u'Kampung Kandang'},\n",
      " {u'_id': u'La Codefin'},\n",
      " {u'_id': u'Kantin Prima Salemba'},\n",
      " {u'_id': u'DeJons Burger'},\n",
      " {u'_id': u'Bebek Kaleyo', u'cuisine': u'regional'},\n",
      " {u'_id': u'Q Smokehouse'},\n",
      " {u'_id': u'Kemang Food Fest'},\n",
      " {u'_id': u'Rumah Makan Padang', u'cuisine': u'international'},\n",
      " {u'_id': u'Bakmi Fajar', u'cuisine': u'regional'},\n",
      " {u'_id': u'Foof Court Pinang Ranti'},\n",
      " {u'_id': u'RM Sederhana'},\n",
      " {u'_id': u'warung soto'},\n",
      " {u'_id': u'Pizza Hut'},\n",
      " {u'_id': u'AYAM GORENG SUHARTI'},\n",
      " {u'_id': u'Ayam Goreng Ny. Suharti'}]\n"
     ]
    }
   ],
   "source": [
    "pipeline = [\n",
    "            {'$match': {'amenity':'restaurant',\n",
    "                        'name':{'$exists':1}}},\n",
    "            {'$project':{'_id':'$name',\n",
    "                         'cuisine':'$cuisine',\n",
    "                         'contact':'$phone'}}\n",
    "]\n",
    "result  = db.jktosm.aggregate(pipeline)['result']\n",
    "pprint.pprint(result)"
   ]
  },
  {
   "cell_type": "markdown",
   "metadata": {},
   "source": [
    "# Other ideas about the datasets"
   ]
  },
  {
   "cell_type": "markdown",
   "metadata": {},
   "source": [
    "Earlier, we have found that not only most of the public places can be found, but it also  shared what kind of description about these places. Now that we have those data, we can create mobile apps that serve as an assistant where to point the users to their need. \n",
    "\n",
    "Mobile apps can be opened as a simple text box, and ask the users *\"What do you want?\"*. If for example, the users say *\"I want to eat Japanese food\"*, the assistant will find Japanese cuisine restaurant within 1 mile radius. Or if the users ask *\"I want to eat chicken (Indonesia: Ayam)\"*, the assistant will find restaurant's name with 'Ayam' in it. They will provide these restaurants based on the map location, with user location at the exact center of the map. If the user click on one restaurant, it will be given some pop up that give the description of the restaurant. For example, their kind of cuisine, contact number, and ask users whether they want to be given direction to the restaurant. \n",
    "\n",
    "Not only restaurant, but other kind of public places. Watch movies, go to gym center, finding a flower, etc. This is a lot of possibilities."
   ]
  },
  {
   "cell_type": "markdown",
   "metadata": {},
   "source": [
    "I actually submit the changes that I made back to the OSM. The changeset is here: http://osmhv.openstreetmap.de/changeset.jsp?id=26730562\n",
    "\n",
    "But the changes get reverted back, because I violated some rules that stated I can't change the map with machine code. If you see the changes, I actually made a lot of changes that the community will benefit."
   ]
  }
 ],
 "metadata": {
  "kernelspec": {
   "display_name": "Python 3",
   "language": "python",
   "name": "python3"
  },
  "language_info": {
   "codemirror_mode": {
    "name": "ipython",
    "version": 3
   },
   "file_extension": ".py",
   "mimetype": "text/x-python",
   "name": "python",
   "nbconvert_exporter": "python",
   "pygments_lexer": "ipython3",
   "version": "3.5.0"
  }
 },
 "nbformat": 4,
 "nbformat_minor": 0
}
