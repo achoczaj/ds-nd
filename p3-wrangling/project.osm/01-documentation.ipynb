{
 "cells": [
  {
   "cell_type": "markdown",
   "metadata": {},
   "source": [
    "OpenStreetMap is an open project, which means it's free and everyone can use it and edit as they like. OpenStreetMap is direct competitor of Google Maps. How OpenStreetMap can compete with the giant you ask? It's depend completely on crowd sourcing. There's lot of people willingly update the map around the world, most of them fix their map country. \n",
    "\n",
    "Openstreetmap is so powerful, and rely heavily on the human input. But its strength also the downfall. Everytime there's human input, there's always be human error.It's very error prone.\n",
    "<!-- TEASER_END -->"
   ]
  },
  {
   "cell_type": "markdown",
   "metadata": {},
   "source": [
    "# Problems Encountered in the Map"
   ]
  },
  {
   "cell_type": "markdown",
   "metadata": {},
   "source": [
    "Take the name of the street for example. People like to abbreviate the type of the street.\n",
    "Street become St. st. In Indonesia, 'Jalan'(Street-Eng), also abbreviated as Jln, jln, jl, Jln.\n",
    "It maybe get us less attention. But for someone as Data Scientist/Web Developer, they expect the street to have generic format. \n",
    "\n",
    "    'Jalan Sudirman' -> Jalan <name> -> name = Sudirman\n",
    "    'Jln Sudirman' -> Jalan <name> -> ERROR!\n",
    "    \n",
    "This project tends to fix that, it fix abbreviate name, so it can use more generalize type. Not only it's benefit for professional, But we can also can see more structured words. \n",
    "\n",
    "In this project, i want to show you to fix one type of error, that is the address of the street.\n",
    "I choose whole places of Jakarta. Jakarta is the capital of Indonesia.This dataset is huge, over 250,000 examples. It's my hometown, and i somewhat want to help the community.\n",
    "And not only that, i also will show you how to put the data that has been audited into MongoDB instance. We also use MongoDB's Agregation Framework to get overview and analysis of the data."
   ]
  },
  {
   "cell_type": "code",
   "execution_count": 4,
   "metadata": {
    "collapsed": false
   },
   "outputs": [],
   "source": [
    "OSM_FILE = 'dataset/jakarta.osm'"
   ]
  },
  {
   "cell_type": "code",
   "execution_count": null,
   "metadata": {
    "collapsed": true
   },
   "outputs": [],
   "source": [
    "%load 02-codes/mapparser.py"
   ]
  },
  {
   "cell_type": "markdown",
   "metadata": {},
   "source": [
    "To audit the osm file, first we need to know the overview of the data.\n",
    "To get an overview of the data, we count the tag content of the data."
   ]
  },
  {
   "cell_type": "code",
   "execution_count": null,
   "metadata": {
    "collapsed": true
   },
   "outputs": [],
   "source": [
    "%load 02-codes/users.py"
   ]
  },
  {
   "cell_type": "code",
   "execution_count": 2,
   "metadata": {
    "collapsed": false
   },
   "outputs": [],
   "source": [
    "import xml.etree.cElementTree as ET"
   ]
  },
  {
   "cell_type": "code",
   "execution_count": null,
   "metadata": {
    "collapsed": true
   },
   "outputs": [],
   "source": [
    "%load 02-codes/audit.py"
   ]
  },
  {
   "cell_type": "markdown",
   "metadata": {},
   "source": [
    "This will save the jakarta osm that has been audited into jakarta_audit.osm\n",
    "Not let's prepare the audited file to be input to the MongoDB instance."
   ]
  },
  {
   "cell_type": "code",
   "execution_count": null,
   "metadata": {
    "collapsed": true
   },
   "outputs": [],
   "source": [
    "# %load 02-codes/data.py\n",
    "#!/usr/bin/env python\n",
    "import xml.etree.ElementTree as ET\n",
    "import pprint\n",
    "import re\n",
    "import codecs\n",
    "import json\n",
    "\n",
    "\n",
    "lower = re.compile(r'^([a-z]|_)*$')\n",
    "lower_colon = re.compile(r'^([a-z]|_)*:([a-z]|_)*$')\n",
    "problemchars = re.compile(r'[=\\+/&<>;\\'\"\\?%#$@\\,\\. \\t\\r\\n]')\n",
    "addresschars = re.compile(r'addr:(\\w+)')\n",
    "CREATED = [ \"version\", \"changeset\", \"timestamp\", \"user\", \"uid\"]\n",
    "OSM_FILE = 'jakarta_audit.osm'\n",
    "\n",
    "def shape_element(element):\n",
    "    #node = defaultdict(set)\n",
    "    node = {}\n",
    "    if element.tag == \"node\" or element.tag == \"way\" :\n",
    "        #create the dictionary based on exaclty the value in element attribute.\n",
    "        node = {'created':{}, 'type':element.tag}\n",
    "        for k in element.attrib:\n",
    "            try:\n",
    "                v = element.attrib[k]\n",
    "            except KeyError:\n",
    "                continue\n",
    "            if k == 'lat' or k == 'lon':\n",
    "                continue\n",
    "            if k in CREATED:\n",
    "                node['created'][k] = v\n",
    "            else:\n",
    "                node[k] = v\n",
    "        try:\n",
    "            node['pos']=[float(element.attrib['lat']),float(element.attrib['lon'])]\n",
    "        except KeyError:\n",
    "            pass\n",
    "        \n",
    "        if 'address' not in node.keys():\n",
    "            node['address'] = {}\n",
    "        #Iterate the content of the tag\n",
    "        for stag in element.iter('tag'):\n",
    "            #Init the dictionry\n",
    "\n",
    "            k = stag.attrib['k']\n",
    "            v = stag.attrib['v']\n",
    "            #Checking if indeed prefix with 'addr' and no ':' afterwards\n",
    "            if k.startswith('addr:'):\n",
    "                if len(k.split(':')) == 2:\n",
    "                    content = addresschars.search(k)\n",
    "                    if content:\n",
    "                        node['address'][content.group(1)] = v\n",
    "            else:\n",
    "                node[k]=v\n",
    "        if not node['address']:\n",
    "            node.pop('address',None)\n",
    "        #Special case when the tag == way,  scrap all the nd key\n",
    "        if element.tag == \"way\":\n",
    "            node['node_refs'] = []\n",
    "            for nd in element.iter('nd'):\n",
    "                node['node_refs'].append(nd.attrib['ref'])\n",
    "#         if  'address' in node.keys():\n",
    "#             pprint.pprint(node['address'])\n",
    "        return node\n",
    "    else:\n",
    "        return None\n",
    "\n",
    "\n",
    "def process_map(file_in, pretty = False):\n",
    "    \"\"\"\n",
    "    Process the osm file to json file to be prepared for input file to monggo\n",
    "    \"\"\"\n",
    "    file_out = \"{0}.json\".format(file_in)\n",
    "    data = []\n",
    "    with codecs.open(file_out, \"w\") as fo:\n",
    "        for _, element in ET.iterparse(file_in):\n",
    "            el = shape_element(element)\n",
    "            if el:\n",
    "                data.append(el)\n",
    "                if pretty:\n",
    "                    fo.write(json.dumps(el, indent=2)+\"\\n\")\n",
    "                else:\n",
    "                    fo.write(json.dumps(el) + \"\\n\")\n",
    "    return data\n",
    "\n",
    "def test():\n",
    "\n",
    "    data = process_map(OSM_FILE)\n",
    "    pprint.pprint(data[500])\n",
    "\n",
    "\n",
    "if __name__ == \"__main__\":\n",
    "    test()"
   ]
  },
  {
   "cell_type": "markdown",
   "metadata": {},
   "source": [
    "The processed map has ben saved to jakarta_audit.osm.json\n",
    "Now that we have process the audited map file into array of JSON, let's put it into mongodb instance.\n",
    "this will take the map that we have been audited.\n",
    "First we load the script to insert the map"
   ]
  },
  {
   "cell_type": "code",
   "execution_count": 2,
   "metadata": {
    "collapsed": false
   },
   "outputs": [],
   "source": [
    "from data import *\n",
    "import pprint"
   ]
  },
  {
   "cell_type": "code",
   "execution_count": 4,
   "metadata": {
    "collapsed": false
   },
   "outputs": [],
   "source": [
    "data = process_map('dataset/jakarta_audit.osm')"
   ]
  },
  {
   "cell_type": "markdown",
   "metadata": {},
   "source": [
    "Okay let's test if the data is something that we expect"
   ]
  },
  {
   "cell_type": "code",
   "execution_count": 6,
   "metadata": {
    "collapsed": false
   },
   "outputs": [
    {
     "name": "stdout",
     "output_type": "stream",
     "text": [
      "[{'created': {'changeset': '20029239',\n",
      "              'timestamp': '2014-01-16T08:18:23Z',\n",
      "              'uid': '646006',\n",
      "              'user': 'Irfan Muhammad',\n",
      "              'version': '13'},\n",
      "  'id': '29938967',\n",
      "  'pos': [-6.1803929, 106.8226699],\n",
      "  'type': 'node'},\n",
      " {'created': {'changeset': '20029239',\n",
      "              'timestamp': '2014-01-16T08:18:23Z',\n",
      "              'uid': '646006',\n",
      "              'user': 'Irfan Muhammad',\n",
      "              'version': '28'},\n",
      "  'id': '29938968',\n",
      "  'pos': [-6.1803972, 106.8231199],\n",
      "  'type': 'node'}]\n"
     ]
    }
   ],
   "source": [
    "pprint.pprint(data[0:2])"
   ]
  },
  {
   "cell_type": "markdown",
   "metadata": {},
   "source": [
    "The data seems about right.\n",
    "After we verified the data is ready, let's put it into MongoDB"
   ]
  },
  {
   "cell_type": "code",
   "execution_count": 7,
   "metadata": {
    "collapsed": true
   },
   "outputs": [],
   "source": [
    "from pymongo import MongoClient"
   ]
  },
  {
   "cell_type": "code",
   "execution_count": 8,
   "metadata": {
    "collapsed": false
   },
   "outputs": [],
   "source": [
    "client  = MongoClient('mongodb://localhost:27017')\n",
    "db = client.examples"
   ]
  },
  {
   "cell_type": "code",
   "execution_count": 9,
   "metadata": {
    "collapsed": false
   },
   "outputs": [
    {
     "name": "stderr",
     "output_type": "stream",
     "text": [
      "/Users/Jon/anaconda/envs/py27/lib/python2.7/site-packages/ipykernel/__main__.py:1: DeprecationWarning: insert is deprecated. Use insert_one or insert_many instead.\n",
      "  if __name__ == '__main__':\n"
     ]
    },
    {
     "ename": "ServerSelectionTimeoutError",
     "evalue": "localhost:27017: [Errno 61] Connection refused",
     "output_type": "error",
     "traceback": [
      "\u001b[0;31m---------------------------------------------------------------------------\u001b[0m",
      "\u001b[0;31mServerSelectionTimeoutError\u001b[0m               Traceback (most recent call last)",
      "\u001b[0;32m<ipython-input-9-4a988356e5a9>\u001b[0m in \u001b[0;36m<module>\u001b[0;34m()\u001b[0m\n\u001b[0;32m----> 1\u001b[0;31m \u001b[0;34m[\u001b[0m\u001b[0mdb\u001b[0m\u001b[0;34m.\u001b[0m\u001b[0mjktosm\u001b[0m\u001b[0;34m.\u001b[0m\u001b[0minsert\u001b[0m\u001b[0;34m(\u001b[0m\u001b[0me\u001b[0m\u001b[0;34m)\u001b[0m \u001b[0;32mfor\u001b[0m \u001b[0me\u001b[0m \u001b[0;32min\u001b[0m \u001b[0mdata\u001b[0m\u001b[0;34m]\u001b[0m\u001b[0;34m\u001b[0m\u001b[0m\n\u001b[0m",
      "\u001b[0;32m/Users/Jon/anaconda/envs/py27/lib/python2.7/site-packages/pymongo/collection.pyc\u001b[0m in \u001b[0;36minsert\u001b[0;34m(self, doc_or_docs, manipulate, check_keys, continue_on_error, **kwargs)\u001b[0m\n\u001b[1;32m   1922\u001b[0m         \u001b[0;32mif\u001b[0m \u001b[0mkwargs\u001b[0m\u001b[0;34m:\u001b[0m\u001b[0;34m\u001b[0m\u001b[0m\n\u001b[1;32m   1923\u001b[0m             \u001b[0mwrite_concern\u001b[0m \u001b[0;34m=\u001b[0m \u001b[0mWriteConcern\u001b[0m\u001b[0;34m(\u001b[0m\u001b[0;34m**\u001b[0m\u001b[0mkwargs\u001b[0m\u001b[0;34m)\u001b[0m\u001b[0;34m\u001b[0m\u001b[0m\n\u001b[0;32m-> 1924\u001b[0;31m         \u001b[0;32mwith\u001b[0m \u001b[0mself\u001b[0m\u001b[0;34m.\u001b[0m\u001b[0m_socket_for_writes\u001b[0m\u001b[0;34m(\u001b[0m\u001b[0;34m)\u001b[0m \u001b[0;32mas\u001b[0m \u001b[0msock_info\u001b[0m\u001b[0;34m:\u001b[0m\u001b[0;34m\u001b[0m\u001b[0m\n\u001b[0m\u001b[1;32m   1925\u001b[0m             return self._insert(sock_info, doc_or_docs, not continue_on_error,\n\u001b[1;32m   1926\u001b[0m                                 check_keys, manipulate, write_concern)\n",
      "\u001b[0;32m/Users/Jon/anaconda/envs/py27/lib/python2.7/contextlib.pyc\u001b[0m in \u001b[0;36m__enter__\u001b[0;34m(self)\u001b[0m\n\u001b[1;32m     15\u001b[0m     \u001b[0;32mdef\u001b[0m \u001b[0m__enter__\u001b[0m\u001b[0;34m(\u001b[0m\u001b[0mself\u001b[0m\u001b[0;34m)\u001b[0m\u001b[0;34m:\u001b[0m\u001b[0;34m\u001b[0m\u001b[0m\n\u001b[1;32m     16\u001b[0m         \u001b[0;32mtry\u001b[0m\u001b[0;34m:\u001b[0m\u001b[0;34m\u001b[0m\u001b[0m\n\u001b[0;32m---> 17\u001b[0;31m             \u001b[0;32mreturn\u001b[0m \u001b[0mself\u001b[0m\u001b[0;34m.\u001b[0m\u001b[0mgen\u001b[0m\u001b[0;34m.\u001b[0m\u001b[0mnext\u001b[0m\u001b[0;34m(\u001b[0m\u001b[0;34m)\u001b[0m\u001b[0;34m\u001b[0m\u001b[0m\n\u001b[0m\u001b[1;32m     18\u001b[0m         \u001b[0;32mexcept\u001b[0m \u001b[0mStopIteration\u001b[0m\u001b[0;34m:\u001b[0m\u001b[0;34m\u001b[0m\u001b[0m\n\u001b[1;32m     19\u001b[0m             \u001b[0;32mraise\u001b[0m \u001b[0mRuntimeError\u001b[0m\u001b[0;34m(\u001b[0m\u001b[0;34m\"generator didn't yield\"\u001b[0m\u001b[0;34m)\u001b[0m\u001b[0;34m\u001b[0m\u001b[0m\n",
      "\u001b[0;32m/Users/Jon/anaconda/envs/py27/lib/python2.7/site-packages/pymongo/mongo_client.pyc\u001b[0m in \u001b[0;36m_get_socket\u001b[0;34m(self, selector)\u001b[0m\n\u001b[1;32m    661\u001b[0m     \u001b[0;34m@\u001b[0m\u001b[0mcontextlib\u001b[0m\u001b[0;34m.\u001b[0m\u001b[0mcontextmanager\u001b[0m\u001b[0;34m\u001b[0m\u001b[0m\n\u001b[1;32m    662\u001b[0m     \u001b[0;32mdef\u001b[0m \u001b[0m_get_socket\u001b[0m\u001b[0;34m(\u001b[0m\u001b[0mself\u001b[0m\u001b[0;34m,\u001b[0m \u001b[0mselector\u001b[0m\u001b[0;34m)\u001b[0m\u001b[0;34m:\u001b[0m\u001b[0;34m\u001b[0m\u001b[0m\n\u001b[0;32m--> 663\u001b[0;31m         \u001b[0mserver\u001b[0m \u001b[0;34m=\u001b[0m \u001b[0mself\u001b[0m\u001b[0;34m.\u001b[0m\u001b[0m_get_topology\u001b[0m\u001b[0;34m(\u001b[0m\u001b[0;34m)\u001b[0m\u001b[0;34m.\u001b[0m\u001b[0mselect_server\u001b[0m\u001b[0;34m(\u001b[0m\u001b[0mselector\u001b[0m\u001b[0;34m)\u001b[0m\u001b[0;34m\u001b[0m\u001b[0m\n\u001b[0m\u001b[1;32m    664\u001b[0m         \u001b[0;32mtry\u001b[0m\u001b[0;34m:\u001b[0m\u001b[0;34m\u001b[0m\u001b[0m\n\u001b[1;32m    665\u001b[0m             \u001b[0;32mwith\u001b[0m \u001b[0mserver\u001b[0m\u001b[0;34m.\u001b[0m\u001b[0mget_socket\u001b[0m\u001b[0;34m(\u001b[0m\u001b[0mself\u001b[0m\u001b[0;34m.\u001b[0m\u001b[0m__all_credentials\u001b[0m\u001b[0;34m)\u001b[0m \u001b[0;32mas\u001b[0m \u001b[0msock_info\u001b[0m\u001b[0;34m:\u001b[0m\u001b[0;34m\u001b[0m\u001b[0m\n",
      "\u001b[0;32m/Users/Jon/anaconda/envs/py27/lib/python2.7/site-packages/pymongo/topology.pyc\u001b[0m in \u001b[0;36mselect_server\u001b[0;34m(self, selector, server_selection_timeout, address)\u001b[0m\n\u001b[1;32m    119\u001b[0m         return random.choice(self.select_servers(selector,\n\u001b[1;32m    120\u001b[0m                                                  \u001b[0mserver_selection_timeout\u001b[0m\u001b[0;34m,\u001b[0m\u001b[0;34m\u001b[0m\u001b[0m\n\u001b[0;32m--> 121\u001b[0;31m                                                  address))\n\u001b[0m\u001b[1;32m    122\u001b[0m \u001b[0;34m\u001b[0m\u001b[0m\n\u001b[1;32m    123\u001b[0m     def select_server_by_address(self, address,\n",
      "\u001b[0;32m/Users/Jon/anaconda/envs/py27/lib/python2.7/site-packages/pymongo/topology.pyc\u001b[0m in \u001b[0;36mselect_servers\u001b[0;34m(self, selector, server_selection_timeout, address)\u001b[0m\n\u001b[1;32m     95\u001b[0m                 \u001b[0;32mif\u001b[0m \u001b[0mserver_timeout\u001b[0m \u001b[0;34m==\u001b[0m \u001b[0;36m0\u001b[0m \u001b[0;32mor\u001b[0m \u001b[0mnow\u001b[0m \u001b[0;34m>\u001b[0m \u001b[0mend_time\u001b[0m\u001b[0;34m:\u001b[0m\u001b[0;34m\u001b[0m\u001b[0m\n\u001b[1;32m     96\u001b[0m                     raise ServerSelectionTimeoutError(\n\u001b[0;32m---> 97\u001b[0;31m                         self._error_message(selector))\n\u001b[0m\u001b[1;32m     98\u001b[0m \u001b[0;34m\u001b[0m\u001b[0m\n\u001b[1;32m     99\u001b[0m                 \u001b[0mself\u001b[0m\u001b[0;34m.\u001b[0m\u001b[0m_ensure_opened\u001b[0m\u001b[0;34m(\u001b[0m\u001b[0;34m)\u001b[0m\u001b[0;34m\u001b[0m\u001b[0m\n",
      "\u001b[0;31mServerSelectionTimeoutError\u001b[0m: localhost:27017: [Errno 61] Connection refused"
     ]
    }
   ],
   "source": [
    "[db.jktosm.insert(e) for e in data]"
   ]
  },
  {
   "cell_type": "markdown",
   "metadata": {},
   "source": [
    "Okay, it seems that we have sucessfully insert all of our data into MongoDB instance.\n",
    "Let's test this"
   ]
  },
  {
   "cell_type": "code",
   "execution_count": null,
   "metadata": {
    "collapsed": false
   },
   "outputs": [],
   "source": [
    "pipeline = [\n",
    "    {'$limit' : 3}\n",
    "]\n",
    "pprint.pprint(db.jktosm.aggregate(pipeline)['result'])"
   ]
  },
  {
   "cell_type": "markdown",
   "metadata": {},
   "source": [
    "# Overview of the data"
   ]
  },
  {
   "cell_type": "markdown",
   "metadata": {},
   "source": [
    "You can see the filesize about the dataset."
   ]
  },
  {
   "cell_type": "code",
   "execution_count": 1,
   "metadata": {
    "collapsed": false
   },
   "outputs": [
    {
     "name": "stdout",
     "output_type": "stream",
     "text": [
      "-rwxrwxrwx@ 1 Jon  staff    79M Nov  5  2014 \u001b[31mdataset/jakarta.osm\u001b[m\u001b[m\r\n",
      "-rwxrwxrwx  1 Jon  staff    80M Nov 20  2014 \u001b[31mdataset/jakarta_audit.osm\u001b[m\u001b[m\r\n",
      "-rwxrwxrwx  1 Jon  staff    89M Nov 20  2014 \u001b[31mdataset/jakarta_audit.osm.json\u001b[m\u001b[m\r\n"
     ]
    }
   ],
   "source": [
    "!ls -lh dataset/jakarta*"
   ]
  },
  {
   "cell_type": "markdown",
   "metadata": {},
   "source": [
    "### Show 5 data that have street "
   ]
  },
  {
   "cell_type": "code",
   "execution_count": 7,
   "metadata": {
    "collapsed": false
   },
   "outputs": [
    {
     "name": "stdout",
     "output_type": "stream",
     "text": [
      "[{u'_id': ObjectId('546d9d758cbd2f060eb3916d'),\n",
      "  u'address': {u'housename': u'Pasar Festival',\n",
      "               u'street': u'Jalan HR Rasuna Said'},\n",
      "  u'building': u'yes',\n",
      "  u'created': {u'changeset': u'16848088',\n",
      "               u'timestamp': u'2013-07-06T12:21:11Z',\n",
      "               u'uid': u'76518',\n",
      "               u'user': u'Firman Hadi',\n",
      "               u'version': u'2'},\n",
      "  u'id': u'1394516071',\n",
      "  u'leisure': u'sports_centre',\n",
      "  u'name': u'Soemantri Brojonegoro',\n",
      "  u'pos': [-6.2213611, 106.8329498],\n",
      "  u'sport': u'basketball',\n",
      "  u'type': u'node'},\n",
      " {u'_id': ObjectId('546d9d768cbd2f060eb39c64'),\n",
      "  u'address': {u'city': u'Jakarta',\n",
      "               u'country': u'ID',\n",
      "               u'housename': u'Meruvian Camp - Cempaka Baru',\n",
      "               u'housenumber': u'39',\n",
      "               u'street': u'Jalan Swadaya 2 No. 39'},\n",
      "  u'created': {u'changeset': u'9758314',\n",
      "               u'timestamp': u'2011-11-06T18:44:31Z',\n",
      "               u'uid': u'70696',\n",
      "               u'user': u'xybot',\n",
      "               u'version': u'2'},\n",
      "  u'id': u'1493006911',\n",
      "  u'pos': [-6.1700951, 106.8655072],\n",
      "  u'type': u'node'},\n",
      " {u'_id': ObjectId('546d9d6d8cbd2f060eb32173'),\n",
      "  u'address': {u'housename': u'Gandaria City',\n",
      "               u'postcode': u'12240',\n",
      "               u'street': u'Jalan Sultan Iskandar Muda Kebayoran Lama'},\n",
      "  u'created': {u'changeset': u'7760855',\n",
      "               u'timestamp': u'2011-04-04T04:16:03Z',\n",
      "               u'uid': u'431638',\n",
      "               u'user': u'esoedjasa',\n",
      "               u'version': u'1'},\n",
      "  u'id': u'1231819753',\n",
      "  u'name': u'Gandaria City',\n",
      "  u'pos': [-6.2446998, 106.7832904],\n",
      "  u'shop': u'supermarket',\n",
      "  u'type': u'node'},\n",
      " {u'_id': ObjectId('546d9d6d8cbd2f060eb323e9'),\n",
      "  u'address': {u'street': u'Jalan Sahari'},\n",
      "  u'created': {u'changeset': u'11638099',\n",
      "               u'timestamp': u'2012-05-18T22:26:16Z',\n",
      "               u'uid': u'445671',\n",
      "               u'user': u'flierfy',\n",
      "               u'version': u'2'},\n",
      "  u'highway': u'bus_stop',\n",
      "  u'id': u'1278972435',\n",
      "  u'name': u'Halte Sahari',\n",
      "  u'pos': [-6.1277779, 106.8464371],\n",
      "  u'type': u'node'},\n",
      " {u'_id': ObjectId('546d9d758cbd2f060eb39153'),\n",
      "  u'address': {u'housename': u'Pasar Festival',\n",
      "               u'housenumber': u'Kav C.22 Unit GF 05-06',\n",
      "               u'postcode': u'12960',\n",
      "               u'street': u'Jalan HR Rasuna Said'},\n",
      "  u'amenity': u'restaurant',\n",
      "  u'created': {u'changeset': u'10024298',\n",
      "               u'timestamp': u'2011-12-03T18:57:09Z',\n",
      "               u'uid': u'92274',\n",
      "               u'user': u'adjuva',\n",
      "               u'version': u'5'},\n",
      "  u'cuisine': u'Indonesian',\n",
      "  u'id': u'1394496957',\n",
      "  u'name': u'Warung Tekko',\n",
      "  u'phone': u'+62 21 5263137',\n",
      "  u'phone2': u'+62 21 5263278',\n",
      "  u'pos': [-6.2216971, 106.8328855],\n",
      "  u'type': u'node',\n",
      "  u'website': u'www.facebook.com/warungtekko'}]\n"
     ]
    }
   ],
   "source": [
    "pipeline = [\n",
    "            {'$match': {'address.street':{'$exists':1}}},\n",
    "            {'$limit' : 5}\n",
    "]\n",
    "result  = db.jktosm.aggregate(pipeline)['result']\n",
    "pprint.pprint(result)"
   ]
  },
  {
   "cell_type": "markdown",
   "metadata": {},
   "source": [
    "### Show the top 5 of contributed users"
   ]
  },
  {
   "cell_type": "markdown",
   "metadata": {},
   "source": [
    "We also can find the top 5 contributed users. These users are count by how they created the point in the map, and sort descent "
   ]
  },
  {
   "cell_type": "code",
   "execution_count": 45,
   "metadata": {
    "collapsed": false
   },
   "outputs": [
    {
     "name": "stdout",
     "output_type": "stream",
     "text": [
      "[{u'_id': u'Firman Hadi', u'count': 113770},\n",
      " {u'_id': u'dimdim02', u'count': 38860},\n",
      " {u'_id': u'riangga_miko', u'count': 36695},\n",
      " {u'_id': u'raniedwianugrah', u'count': 30388},\n",
      " {u'_id': u'Alex Rollin', u'count': 26496}]\n"
     ]
    }
   ],
   "source": [
    "pipeline = [\n",
    "            {'$match': {'created.user':{'$exists':1}}},\n",
    "            {'$group': {'_id':'$created.user',\n",
    "                        'count':{'$sum':1}}},\n",
    "            {'$sort': {'count':-1}},\n",
    "            {'$limit' : 5}\n",
    "]\n",
    "result  = db.jktosm.aggregate(pipeline)['result']\n",
    "pprint.pprint(result)"
   ]
  },
  {
   "cell_type": "markdown",
   "metadata": {},
   "source": [
    "### Show the restaurant's name, the food they serve, and contact number"
   ]
  },
  {
   "cell_type": "code",
   "execution_count": 9,
   "metadata": {
    "collapsed": false
   },
   "outputs": [
    {
     "name": "stdout",
     "output_type": "stream",
     "text": [
      "[{u'_id': u'Taman Hek'},\n",
      " {u'_id': u'3 House'},\n",
      " {u'_id': u'Jimbaran'},\n",
      " {u'_id': u'Death by Chocolate'},\n",
      " {u'_id': u\"McDonald's\"},\n",
      " {u'_id': u\"Chef's Kitchen\"},\n",
      " {u'_id': u'Planet Hollywood Jakarta', u'cuisine': u'american'},\n",
      " {u'_id': u'Soto kudus'},\n",
      " {u'_id': u'KFC Cikini', u'cuisine': u'chicken'},\n",
      " {u'_id': u'Mc Donald Cikini'},\n",
      " {u'_id': u'Pempek Cuko'},\n",
      " {u'_id': u'Warung Tekko',\n",
      "  u'contact': u'+62 21 5263137',\n",
      "  u'cuisine': u'Indonesian'},\n",
      " {u'_id': u'Kafe Betawi', u'cuisine': u'asian'},\n",
      " {u'_id': u'QBox Cafe', u'cuisine': u'asian'},\n",
      " {u'_id': u'Comics Cafe', u'cuisine': u'american'},\n",
      " {u'_id': u'Pizza Hut', u'cuisine': u'pizza'},\n",
      " {u'_id': u'Otel Lobby', u'cuisine': u'international'},\n",
      " {u'_id': u'Loewy', u'cuisine': u'french'},\n",
      " {u'_id': u'Food Court Passer Kuningan', u'cuisine': u'asian'},\n",
      " {u'_id': u'Pastis', u'cuisine': u'italian'},\n",
      " {u'_id': u'Pizza Hut', u'cuisine': u'pizza'},\n",
      " {u'_id': u'Dunkin donuts'},\n",
      " {u'_id': u'Warung Pasta'},\n",
      " {u'_id': u'Ayam Balphuss'},\n",
      " {u'_id': u'Riung Tenda'},\n",
      " {u'_id': u'Ayam Bakar Gilimanuk'},\n",
      " {u'_id': u'Ikan Bakar Banyuwangi'},\n",
      " {u'_id': u'Dim Sum Inc'},\n",
      " {u'_id': u'Heartz Chicken Buffet'},\n",
      " {u'_id': u'Ko he Noor'},\n",
      " {u'_id': u'de Resto'},\n",
      " {u'_id': u'Bakmi GM'},\n",
      " {u'_id': u'Caho Mung Qui Khach'},\n",
      " {u'_id': u'Dapur Melayu', u'cuisine': u'asian'},\n",
      " {u'_id': u'E Corner'},\n",
      " {u'_id': u'Ho Lung Sechan Cuisine', u'cuisine': u'asian'},\n",
      " {u'_id': u'Madam Kwok'},\n",
      " {u'_id': u'Mangotree Bistro'},\n",
      " {u'_id': u'Talaga'},\n",
      " {u'_id': u'Tgrill'},\n",
      " {u'_id': u'Usselsspring'},\n",
      " {u'_id': u'Eastern Promise'},\n",
      " {u'_id': u'Bubur Angke', u'cuisine': u'chinese'},\n",
      " {u'_id': u'Kembang Goela', u'cuisine': u'indonesia'},\n",
      " {u'_id': u'Kantin Mega Rasa', u'cuisine': u'indonesian'},\n",
      " {u'_id': u'Mbah Jingkrak Setiabudi', u'cuisine': u'indonesian'},\n",
      " {u'_id': u'Makan Babi'},\n",
      " {u'_id': u'3 house'},\n",
      " {u'_id': u'YaUdah bistro',\n",
      "  u'contact': u'+62213140343',\n",
      "  u'cuisine': u'german'},\n",
      " {u'_id': u'Mamink Daeng Tata', u'cuisine': u'regional'},\n",
      " {u'_id': u'Restoran Putri Duyung'},\n",
      " {u'_id': u'Le Bridge Restaurant'},\n",
      " {u'_id': u'Lanna Thai', u'cuisine': u'thai'},\n",
      " {u'_id': u'The Goods Diner'},\n",
      " {u'_id': u'Taco Local', u'cuisine': u'mexican'},\n",
      " {u'_id': u\"Chili's\", u'cuisine': u'american'},\n",
      " {u'_id': u'Hacienda ', u'cuisine': u'mexican'},\n",
      " {u'_id': u'Sederhana', u'cuisine': u'regional'},\n",
      " {u'_id': u'Dim Sum Restaurant', u'cuisine': u'international'},\n",
      " {u'_id': u'Warung Desa', u'cuisine': u'asian'},\n",
      " {u'_id': u'PEPeNERO'},\n",
      " {u'_id': u'Sakura Japanese Restaurant'},\n",
      " {u'_id': u'Pelangi Seafood ', u'cuisine': u'indonesian'},\n",
      " {u'_id': u'Restoran Kurnia Jaya'},\n",
      " {u'_id': u'Rumah Makan Padang Sederhana'},\n",
      " {u'_id': u'Wabito Ramen',\n",
      "  u'contact': u'62 21 3923810',\n",
      "  u'cuisine': u'japanese'},\n",
      " {u'_id': u'Rava House'},\n",
      " {u'_id': u'Musketeers'},\n",
      " {u'_id': u'Kebab Baba Rafi'},\n",
      " {u'_id': u'Bakul TUkul'},\n",
      " {u'_id': u'Nasi Bebek'},\n",
      " {u'_id': u'Ayam Panggang Rawamangun', u'cuisine': u'chicken'},\n",
      " {u'_id': u'Goma ramen', u'contact': u'081807217074', u'cuisine': u'japanese'},\n",
      " {u'_id': u'Takigawa', u'cuisine': u'Japanese'},\n",
      " {u'_id': u'Warung Pasta', u'cuisine': u'italian'},\n",
      " {u'_id': u'Rumah Solo'},\n",
      " {u'_id': u'Amigos', u'cuisine': u'mexican'},\n",
      " {u'_id': u'Amigos', u'cuisine': u'mexican'},\n",
      " {u'_id': u'Amigos', u'cuisine': u'mexican'},\n",
      " {u'_id': u'Koi'},\n",
      " {u'_id': u'sop janda', u'cuisine': u'regional'},\n",
      " {u'_id': u'Waroeng Kito', u'cuisine': u'chicken,_juice'},\n",
      " {u'_id': u'Sate Senayan'},\n",
      " {u'_id': u'Holy Cow'},\n",
      " {u'_id': u'Holy Cow'},\n",
      " {u'_id': u'MM Juice'},\n",
      " {u'_id': u'Abuba Steak'},\n",
      " {u'_id': u'Bubur Mangga Besar', u'cuisine': u'congee'},\n",
      " {u'_id': u'Pia Jakarta', u'cuisine': u'bakpia,hopia,pia'},\n",
      " {u'_id': u'Awen Seafood', u'cuisine': u'seafood'},\n",
      " {u'_id': u'Bluegrass',\n",
      "  u'contact': u'+62 21 29941660',\n",
      "  u'cuisine': u'american'},\n",
      " {u'_id': u'Warung Bang Hoody'},\n",
      " {u'_id': u'Bakmi Toko Tiga', u'cuisine': u'chinese'},\n",
      " {u'_id': u'Ayam Goreng Berkah Rachmat'},\n",
      " {u'_id': u'Ayam Goreng Suharti'},\n",
      " {u'_id': u'Bushido Restaurant'},\n",
      " {u'_id': u'Restoran Caping Gunung'},\n",
      " {u'_id': u'Bakso Lapangan tembak', u'cuisine': u'regional'},\n",
      " {u'_id': u'Baruna'},\n",
      " {u'_id': u'Pizza Hut Matraman', u'cuisine': u'pizza'},\n",
      " {u'_id': u'RM. Handayani'},\n",
      " {u'_id': u'kintamani'},\n",
      " {u'_id': u'sentral'},\n",
      " {u'_id': u'Kantin Umum', u'cuisine': u'variety_of_cuisines'},\n",
      " {u'_id': u'RM Raja Rasa', u'cuisine': u'regional'},\n",
      " {u'_id': u'RM Sederhana', u'cuisine': u'regional'},\n",
      " {u'_id': u'Sate Tomang', u'cuisine': u'regional'},\n",
      " {u'_id': u'warkop asep'},\n",
      " {u'_id': u'Iga Bakar Mas Giri', u'cuisine': u'regional'},\n",
      " {u'_id': u'Ayam Presto', u'cuisine': u'regional'},\n",
      " {u'_id': u'Masakan Rumah Ibu Endang', u'cuisine': u'regional'},\n",
      " {u'_id': u'Oenpao', u'cuisine': u'chinese'},\n",
      " {u'_id': u'rumah makan ibu ida'},\n",
      " {u'_id': u'fix me', u'cuisine': u'chinese'},\n",
      " {u'_id': u'Sederhana', u'cuisine': u'padang'},\n",
      " {u'_id': u'Saung Elbuston'},\n",
      " {u'_id': u'Rumah Makan Soto Betawi'},\n",
      " {u'_id': u'Warung Kopi'},\n",
      " {u'_id': u'Kampung Kandang'},\n",
      " {u'_id': u'La Codefin'},\n",
      " {u'_id': u'Kantin Prima Salemba'},\n",
      " {u'_id': u'DeJons Burger'},\n",
      " {u'_id': u'Bebek Kaleyo', u'cuisine': u'regional'},\n",
      " {u'_id': u'Q Smokehouse'},\n",
      " {u'_id': u'Kemang Food Fest'},\n",
      " {u'_id': u'Rumah Makan Padang', u'cuisine': u'international'},\n",
      " {u'_id': u'Bakmi Fajar', u'cuisine': u'regional'},\n",
      " {u'_id': u'Foof Court Pinang Ranti'},\n",
      " {u'_id': u'RM Sederhana'},\n",
      " {u'_id': u'warung soto'},\n",
      " {u'_id': u'Pizza Hut'},\n",
      " {u'_id': u'AYAM GORENG SUHARTI'},\n",
      " {u'_id': u'Ayam Goreng Ny. Suharti'}]\n"
     ]
    }
   ],
   "source": [
    "pipeline = [\n",
    "            {'$match': {'amenity':'restaurant',\n",
    "                        'name':{'$exists':1}}},\n",
    "            {'$project':{'_id':'$name',\n",
    "                         'cuisine':'$cuisine',\n",
    "                         'contact':'$phone'}}\n",
    "]\n",
    "result  = db.jktosm.aggregate(pipeline)['result']\n",
    "pprint.pprint(result)"
   ]
  },
  {
   "cell_type": "markdown",
   "metadata": {},
   "source": [
    "# Other ideas about the datasets"
   ]
  },
  {
   "cell_type": "markdown",
   "metadata": {},
   "source": [
    "Earlier, we have found that not only most of the public places can be found, but it also  shared what kind of description about these places. Now that we have those data, we can create mobile apps that serve as an assistant where to point the users to their need. \n",
    "\n",
    "Mobile apps can be opened as a simple text box, and ask the users *\"What do you want?\"*. If for example, the users say *\"I want to eat Japanese food\"*, the assistant will find Japanese cuisine restaurant within 1 mile radius. Or if the users ask *\"I want to eat chicken (Indonesia: Ayam)\"*, the assistant will find restaurant's name with 'Ayam' in it. They will provide these restaurants based on the map location, with user location at the exact center of the map. If the user click on one restaurant, it will be given some pop up that give the description of the restaurant. For example, their kind of cuisine, contact number, and ask users whether they want to be given direction to the restaurant. \n",
    "\n",
    "Not only restaurant, but other kind of public places. Watch movies, go to gym center, finding a flower, etc. This is a lot of possibilities."
   ]
  },
  {
   "cell_type": "markdown",
   "metadata": {},
   "source": [
    "I actually submit the changes that I made back to the OSM. The changeset is here: http://osmhv.openstreetmap.de/changeset.jsp?id=26730562\n",
    "\n",
    "But the changes get reverted back, because I violated some rules that stated I can't change the map with machine code. If you see the changes, I actually made a lot of changes that the community will benefit."
   ]
  }
 ],
 "metadata": {
  "kernelspec": {
   "display_name": "Python 2",
   "language": "python",
   "name": "python2"
  },
  "language_info": {
   "codemirror_mode": {
    "name": "ipython",
    "version": 2
   },
   "file_extension": ".py",
   "mimetype": "text/x-python",
   "name": "python",
   "nbconvert_exporter": "python",
   "pygments_lexer": "ipython2",
   "version": "2.7.10"
  }
 },
 "nbformat": 4,
 "nbformat_minor": 0
}
