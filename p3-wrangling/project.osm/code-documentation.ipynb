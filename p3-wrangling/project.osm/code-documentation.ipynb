{
 "cells": [
  {
   "cell_type": "markdown",
   "metadata": {},
   "source": [
    "OpenStreetMap is an open project, which means it's free and everyone can use it and edit as they like. OpenStreetMap is direct competitor of Google Maps. How OpenStreetMap can compete with the giant you ask? It's depend completely on crowd sourcing. There's lot of people willingly update the map around the world, most of them fix their map country. \n",
    "\n",
    "Openstreetmap is so powerful, and rely heavily on the human input. But its strength also the downfall. Everytime there's human input, there's always be human error.It's very error prone.\n",
    "<!-- TEASER_END -->"
   ]
  },
  {
   "cell_type": "markdown",
   "metadata": {},
   "source": [
    "# Problems Encountered in the Map"
   ]
  },
  {
   "cell_type": "markdown",
   "metadata": {},
   "source": [
    "The problem encountered in the map:\n",
    "    \n",
    "* Street map abbreviations\n",
    "* Incosistent phone number:\n",
    "\n",
    "    \n",
    "        {u'_id': u'021 500505'},\n",
    "        {u'_id': u'021-720-0981209'},\n",
    "        {u'_id': u'62 21 3923810'},\n",
    "        {u'_id': u'+62 21 723 8227'},\n",
    "        {u'_id': u'(021) 7180317'},\n",
    "        {u'_id': u'081807217074'},\n",
    "        {u'_id': u'+62 857 4231 9136'},\n",
    "        {u'_id': u'+6221 80872985'},\n",
    "        {u'_id': u'+62 81222229386'}\n",
    "\n"
   ]
  },
  {
   "cell_type": "markdown",
   "metadata": {},
   "source": [
    "Take the name of the street for example. People like to abbreviate the type of the street.\n",
    "Street become St. st. In Indonesia, 'Jalan'(Street-Eng), also abbreviated as Jln, jln, jl, Jln.\n",
    "It maybe get us less attention. But for someone as Data Scientist/Web Developer, they expect the street to have generic format. \n",
    "\n",
    "    'Jalan Sudirman' -> Jalan <name> -> name = Sudirman\n",
    "    'Jln Sudirman' -> Jalan <name> -> ERROR!\n",
    "    \n",
    "We also have inconsistent phone number:\n",
    "\n",
    "    \n",
    "This project tends to fix that, it fix abbreviate name, so it can use more generalize type. Not only it's benefit for professional, But we can also can see more structured words.\n",
    "I choose whole places of Jakarta. Jakarta is the capital of Indonesia.This dataset is huge, over 250,000 examples. It's my hometown, and i somewhat want to help the community."
   ]
  },
  {
   "cell_type": "markdown",
   "metadata": {},
   "source": [
    "# TODO\n",
    "\n",
    "* Uniformity of phone number"
   ]
  },
  {
   "cell_type": "code",
   "execution_count": 75,
   "metadata": {
    "collapsed": false
   },
   "outputs": [],
   "source": [
    "OSMFILE = 'dataset/jakarta.osm'"
   ]
  },
  {
   "cell_type": "markdown",
   "metadata": {},
   "source": [
    "To audit the osm file, first we need to know the overview of the data.\n",
    "To get an overview of the data, we count the tag content of the data."
   ]
  },
  {
   "cell_type": "code",
   "execution_count": 109,
   "metadata": {
    "collapsed": false
   },
   "outputs": [
    {
     "name": "stdout",
     "output_type": "stream",
     "text": [
      "Overwriting 02-codes/audit.py\n"
     ]
    }
   ],
   "source": [
    "%%writefile 02-codes/audit.py\n",
    "\n",
    "import xml.etree.cElementTree as ET\n",
    "from collections import defaultdict\n",
    "import re\n",
    "import pprint\n",
    "from optparse import OptionParser\n",
    "\n",
    "# OSMFILE = \"sample.osm\"\n",
    "# OSMFILE = \"example_audit.osm\"\n",
    "#In Indonesia, type first, then name. So the regex has to be changed.\n",
    "#street_type_re = re.compile(r'\\b\\S+\\.?$', re.IGNORECASE)\n",
    "street_type_re = re.compile(r'^\\b\\S+\\.?', re.IGNORECASE)\n",
    "\n",
    "\n",
    "# expected = [\"Street\", \"Avenue\", \"Boulevard\", \"Drive\", \"Court\", \"Place\", \"Square\", \"Lane\", \"Road\", \n",
    "#             \"Trail\", \"Parkway\", \"Commons\"]\n",
    "expected = ['Jalan', 'Gang','Street', 'Road']\n",
    "# UPDATE THIS VARIABLE\n",
    "#Mapping has to sort in length descending.\n",
    "#languange English-Indonesian{Street: Jalan}. \n",
    "#{Sudirman Stret:Jalan Sudirman}\n",
    "mapping = {\n",
    "\n",
    "            'jl.':'Jalan',\n",
    "            'JL.':'Jalan',\n",
    "            'Jl.':'Jalan',\n",
    "            'GG':'Gang',\n",
    "            'gg': 'Gang',\n",
    "            'jl' :'Jalan',\n",
    "            'JL':'Jalan',\n",
    "            'Jl':'Jalan',\n",
    "        \n",
    "        }\n",
    "\n",
    "\n",
    "def audit_street_type(street_types, street_name):\n",
    "    m = street_type_re.search(street_name)\n",
    "    if m:\n",
    "        street_type = m.group()\n",
    "        if street_type not in expected:\n",
    "            street_types[street_type].add(street_name)\n",
    "            #return True if need to be updated\n",
    "            return True\n",
    "    return False\n",
    "\n",
    "\n",
    "def is_street_name(elem):\n",
    "    \"\"\"\n",
    "    Perhaps the addr:full should also included to be fixed  \n",
    "    \"\"\"\n",
    "    return (elem.attrib['k'] == \"addr:street\") or (elem.attrib['k'] == \"addr:full\")\n",
    "\n",
    "def is_name_is_street(elem):\n",
    "    \"\"\"Some people fill the name of the street in k=name.\n",
    "    \n",
    "    Should change this\"\"\"\n",
    "    s = street_type_re.search(elem.attrib['v'])\n",
    "    #print s\n",
    "    return (elem.attrib['k'] == \"name\") and s and s.group() in mapping.keys()\n",
    "\n",
    "def audit(osmfile):\n",
    "    osm_file = open(osmfile, \"r\")\n",
    "    street_types = defaultdict(set)\n",
    "#     tree = ET.parse(osm_file, events=(\"start\",))\n",
    "    tree = ET.parse(osm_file)\n",
    "    \n",
    "    listtree = list(tree.iter())\n",
    "    for elem in listtree:\n",
    "        if elem.tag == \"node\" or elem.tag == \"way\":\n",
    "            n_add = None\n",
    "            \n",
    "            for tag in elem.iter(\"tag\"):\n",
    "                if is_street_name(tag):\n",
    "                    if audit_street_type(street_types, tag.attrib['v']):\n",
    "                        #Update the tag attribtue\n",
    "                        tag.attrib['v'] = update_name(tag.attrib['v'],mapping)\n",
    "                elif is_name_is_street(tag):\n",
    "                    tag.attrib['v'] = update_name(tag.attrib['v'],mapping)\n",
    "                    n_add = tag.attrib['v']\n",
    "                elif tag.attrib['k'] == 'phone':\n",
    "#                     print  tag.attrib['v']\n",
    "                    tag.attrib['v'] = update_phone(tag.attrib['v'])\n",
    "                    \n",
    "                   \n",
    "            if n_add:\n",
    "                elem.append(ET.Element('tag',{'k':'addr:street', 'v':n_add}))\n",
    "\n",
    "            \n",
    "                \n",
    "    #write the to the file we've been audit\n",
    "    tree.write(osmfile[:osmfile.find('.osm')]+'_audit.osm')\n",
    "    return street_types\n",
    "\n",
    "def update_phone(number):\n",
    "    \"\"\"Uniform all the incosistent number\"\"\"\n",
    "    \n",
    "    stripped = re.sub('[^A-Za-z0-9]+', '', number)\n",
    "    replace0to62 = re.sub('^0', '62',stripped)\n",
    "    separate_area_code  = re.sub('^6221','6221 ',replace0to62)\n",
    "    tidy_country_code = re.sub('^62', '+62 ', separate_area_code )\n",
    "    fixed = tidy_country_code\n",
    "    \n",
    "    return fixed\n",
    "        \n",
    "    \n",
    "    \n",
    "def update_name(name, mapping):\n",
    "    \"\"\"\n",
    "    Fixed abreviate name so the name can be uniform.\n",
    "    \n",
    "    The reason why mapping in such particular order, is to prevent the shorter keys get first.\n",
    "    \"\"\"\n",
    "    dict_map = sorted(mapping.keys(), key=len, reverse=True)\n",
    "    for key in dict_map:\n",
    "        \n",
    "        if name.find(key) != -1:          \n",
    "            name = name.replace(key,mapping[key])\n",
    "            return name\n",
    "\n",
    "#essentially, in Indonesia, you specify the all type of street as Street. \n",
    "#So if it doesnt have any prefix, add 'Jalan'\n",
    "    return 'Jalan ' + name\n",
    "\n",
    "\n",
    "def test():\n",
    "    st_types = audit(OSMFILE)\n",
    "#     pprint.pprint(dict(st_types))\n",
    "    #assert len(st_types) == 3\n",
    "    \n",
    "\n",
    "#     for st_type, ways in st_types.iteritems():\n",
    "#         for name in ways:\n",
    "#             better_name = update_name(name, mapping)\n",
    "#             print name, \"=>\", better_name\n",
    "\n",
    "\n",
    "if __name__ == '__main__':\n",
    "    test()\n",
    "#     parser  = OptionParser()\n",
    "#     parser.add_option('-d', '--data', dest='audited_data', help='osm data that want to be audited')\n",
    "#     (opts,args) = parser.parse_args()\n",
    "#     audit(opts.audited_data)\n",
    "    "
   ]
  },
  {
   "cell_type": "markdown",
   "metadata": {},
   "source": [
    "This will save the jakarta osm that has been audited into jakarta_audit.osm\n",
    "Not let's prepare the audited file to be input to the MongoDB instance."
   ]
  },
  {
   "cell_type": "code",
   "execution_count": 104,
   "metadata": {
    "collapsed": false
   },
   "outputs": [
    {
     "name": "stdout",
     "output_type": "stream",
     "text": [
      "{'created': {'changeset': '432205',\n",
      "             'timestamp': '2008-12-17T06:20:11Z',\n",
      "             'uid': '76518',\n",
      "             'user': 'Firman Hadi',\n",
      "             'version': '17'},\n",
      " 'id': '94995170',\n",
      " 'pos': [-6.2917819, 106.7859039],\n",
      " 'type': 'node'}\n"
     ]
    }
   ],
   "source": [
    "# %load 02-codes/data.py\n",
    "#!/usr/bin/env python\n",
    "import xml.etree.ElementTree as ET\n",
    "import pprint\n",
    "import re\n",
    "import codecs\n",
    "import json\n",
    "\n",
    "\n",
    "lower = re.compile(r'^([a-z]|_)*$')\n",
    "lower_colon = re.compile(r'^([a-z]|_)*:([a-z]|_)*$')\n",
    "problemchars = re.compile(r'[=\\+/&<>;\\'\"\\?%#$@\\,\\. \\t\\r\\n]')\n",
    "addresschars = re.compile(r'addr:(\\w+)')\n",
    "CREATED = [ \"version\", \"changeset\", \"timestamp\", \"user\", \"uid\"]\n",
    "OSM_FILE = 'dataset/jakarta_audit.osm'\n",
    "\n",
    "def shape_element(element):\n",
    "    #node = defaultdict(set)\n",
    "    node = {}\n",
    "    if element.tag == \"node\" or element.tag == \"way\" :\n",
    "        #create the dictionary based on exaclty the value in element attribute.\n",
    "        node = {'created':{}, 'type':element.tag}\n",
    "        for k in element.attrib:\n",
    "            try:\n",
    "                v = element.attrib[k]\n",
    "            except KeyError:\n",
    "                continue\n",
    "            if k == 'lat' or k == 'lon':\n",
    "                continue\n",
    "            if k in CREATED:\n",
    "                node['created'][k] = v\n",
    "            else:\n",
    "                node[k] = v\n",
    "        try:\n",
    "            node['pos']=[float(element.attrib['lat']),float(element.attrib['lon'])]\n",
    "        except KeyError:\n",
    "            pass\n",
    "        \n",
    "        if 'address' not in node.keys():\n",
    "            node['address'] = {}\n",
    "        #Iterate the content of the tag\n",
    "        for stag in element.iter('tag'):\n",
    "            #Init the dictionry\n",
    "\n",
    "            k = stag.attrib['k']\n",
    "            v = stag.attrib['v']\n",
    "            #Checking if indeed prefix with 'addr' and no ':' afterwards\n",
    "            if k.startswith('addr:'):\n",
    "                if len(k.split(':')) == 2:\n",
    "                    content = addresschars.search(k)\n",
    "                    if content:\n",
    "                        node['address'][content.group(1)] = v\n",
    "            else:\n",
    "                node[k]=v\n",
    "        if not node['address']:\n",
    "            node.pop('address',None)\n",
    "        #Special case when the tag == way,  scrap all the nd key\n",
    "        if element.tag == \"way\":\n",
    "            node['node_refs'] = []\n",
    "            for nd in element.iter('nd'):\n",
    "                node['node_refs'].append(nd.attrib['ref'])\n",
    "#         if  'address' in node.keys():\n",
    "#             pprint.pprint(node['address'])\n",
    "        return node\n",
    "    else:\n",
    "        return None\n",
    "\n",
    "\n",
    "def process_map(file_in, pretty = False):\n",
    "    \"\"\"\n",
    "    Process the osm file to json file to be prepared for input file to monggo\n",
    "    \"\"\"\n",
    "    file_out = \"{0}.json\".format(file_in)\n",
    "    data = []\n",
    "    with codecs.open(file_out, \"w\") as fo:\n",
    "        for _, element in ET.iterparse(file_in):\n",
    "            el = shape_element(element)\n",
    "            if el:\n",
    "                data.append(el)\n",
    "                if pretty:\n",
    "                    fo.write(json.dumps(el, indent=2)+\"\\n\")\n",
    "                else:\n",
    "                    fo.write(json.dumps(el) + \"\\n\")\n",
    "    return data\n",
    "\n",
    "def test():\n",
    "\n",
    "    data = process_map(OSM_FILE)\n",
    "    pprint.pprint(data[500])\n",
    "\n",
    "\n",
    "if __name__ == \"__main__\":\n",
    "    test()"
   ]
  },
  {
   "cell_type": "markdown",
   "metadata": {},
   "source": [
    "The processed map has ben saved to jakarta_audit.osm.json\n",
    "Now that we have process the audited map file into array of JSON, let's put it into mongodb instance.\n",
    "this will take the map that we have been audited.\n",
    "First we load the script to insert the map"
   ]
  },
  {
   "cell_type": "code",
   "execution_count": 8,
   "metadata": {
    "collapsed": false
   },
   "outputs": [],
   "source": [
    "from data import *\n",
    "import pprint"
   ]
  },
  {
   "cell_type": "code",
   "execution_count": 105,
   "metadata": {
    "collapsed": false
   },
   "outputs": [],
   "source": [
    "data = process_map('dataset/jakarta_audit.osm')"
   ]
  },
  {
   "cell_type": "code",
   "execution_count": 92,
   "metadata": {
    "collapsed": true
   },
   "outputs": [],
   "source": [
    "import json"
   ]
  },
  {
   "cell_type": "markdown",
   "metadata": {},
   "source": [
    "Okay let's test if the data is something that we expect"
   ]
  },
  {
   "cell_type": "code",
   "execution_count": 7,
   "metadata": {
    "collapsed": false
   },
   "outputs": [
    {
     "name": "stdout",
     "output_type": "stream",
     "text": [
      "[{'created': {'changeset': '20029239',\n",
      "              'timestamp': '2014-01-16T08:18:23Z',\n",
      "              'uid': '646006',\n",
      "              'user': 'Irfan Muhammad',\n",
      "              'version': '13'},\n",
      "  'id': '29938967',\n",
      "  'pos': [-6.1803929, 106.8226699],\n",
      "  'type': 'node'},\n",
      " {'created': {'changeset': '20029239',\n",
      "              'timestamp': '2014-01-16T08:18:23Z',\n",
      "              'uid': '646006',\n",
      "              'user': 'Irfan Muhammad',\n",
      "              'version': '28'},\n",
      "  'id': '29938968',\n",
      "  'pos': [-6.1803972, 106.8231199],\n",
      "  'type': 'node'}]\n"
     ]
    }
   ],
   "source": [
    "pprint.pprint(data[0:2])"
   ]
  },
  {
   "cell_type": "markdown",
   "metadata": {},
   "source": [
    "The data seems about right.\n",
    "After we verified the data is ready, let's put it into MongoDB"
   ]
  },
  {
   "cell_type": "code",
   "execution_count": 81,
   "metadata": {
    "collapsed": true
   },
   "outputs": [],
   "source": [
    "from pymongo import MongoClient"
   ]
  },
  {
   "cell_type": "code",
   "execution_count": 82,
   "metadata": {
    "collapsed": false
   },
   "outputs": [],
   "source": [
    "client  = MongoClient('mongodb://localhost:27017')\n",
    "db = client.examples"
   ]
  },
  {
   "cell_type": "code",
   "execution_count": 106,
   "metadata": {
    "collapsed": false
   },
   "outputs": [
    {
     "data": {
      "text/plain": [
       "{u'n': 260760, u'ok': 1}"
      ]
     },
     "execution_count": 106,
     "metadata": {},
     "output_type": "execute_result"
    }
   ],
   "source": [
    "db.jktosm.remove()"
   ]
  },
  {
   "cell_type": "code",
   "execution_count": 107,
   "metadata": {
    "collapsed": false
   },
   "outputs": [
    {
     "ename": "InvalidDocument",
     "evalue": "key 'building.source:roof' must not contain '.'",
     "output_type": "error",
     "traceback": [
      "\u001b[0;31m---------------------------------------------------------------------------\u001b[0m",
      "\u001b[0;31mInvalidDocument\u001b[0m                           Traceback (most recent call last)",
      "\u001b[0;32m<ipython-input-107-4a988356e5a9>\u001b[0m in \u001b[0;36m<module>\u001b[0;34m()\u001b[0m\n\u001b[0;32m----> 1\u001b[0;31m \u001b[0;34m[\u001b[0m\u001b[0mdb\u001b[0m\u001b[0;34m.\u001b[0m\u001b[0mjktosm\u001b[0m\u001b[0;34m.\u001b[0m\u001b[0minsert\u001b[0m\u001b[0;34m(\u001b[0m\u001b[0me\u001b[0m\u001b[0;34m)\u001b[0m \u001b[0;32mfor\u001b[0m \u001b[0me\u001b[0m \u001b[0;32min\u001b[0m \u001b[0mdata\u001b[0m\u001b[0;34m]\u001b[0m\u001b[0;34m\u001b[0m\u001b[0m\n\u001b[0m",
      "\u001b[0;32m/Users/Jonathan/anaconda/lib/python2.7/site-packages/pymongo/collection.pyc\u001b[0m in \u001b[0;36minsert\u001b[0;34m(self, doc_or_docs, manipulate, safe, check_keys, continue_on_error, **kwargs)\u001b[0m\n\u001b[1;32m    407\u001b[0m             results = message._do_batched_write_command(\n\u001b[1;32m    408\u001b[0m                     \u001b[0mself\u001b[0m\u001b[0;34m.\u001b[0m\u001b[0mdatabase\u001b[0m\u001b[0;34m.\u001b[0m\u001b[0mname\u001b[0m \u001b[0;34m+\u001b[0m \u001b[0;34m\".$cmd\"\u001b[0m\u001b[0;34m,\u001b[0m \u001b[0m_INSERT\u001b[0m\u001b[0;34m,\u001b[0m \u001b[0mcommand\u001b[0m\u001b[0;34m,\u001b[0m\u001b[0;34m\u001b[0m\u001b[0m\n\u001b[0;32m--> 409\u001b[0;31m                     gen(), check_keys, self.uuid_subtype, client)\n\u001b[0m\u001b[1;32m    410\u001b[0m             \u001b[0m_check_write_command_response\u001b[0m\u001b[0;34m(\u001b[0m\u001b[0mresults\u001b[0m\u001b[0;34m)\u001b[0m\u001b[0;34m\u001b[0m\u001b[0m\n\u001b[1;32m    411\u001b[0m         \u001b[0;32melse\u001b[0m\u001b[0;34m:\u001b[0m\u001b[0;34m\u001b[0m\u001b[0m\n",
      "\u001b[0;31mInvalidDocument\u001b[0m: key 'building.source:roof' must not contain '.'"
     ]
    }
   ],
   "source": [
    "[db.jktosm.insert(e) for e in data]"
   ]
  },
  {
   "cell_type": "markdown",
   "metadata": {},
   "source": [
    "Okay, it seems that we have sucessfully insert all of our data into MongoDB instance.\n",
    "Let's test this"
   ]
  },
  {
   "cell_type": "code",
   "execution_count": 13,
   "metadata": {
    "collapsed": false
   },
   "outputs": [
    {
     "name": "stdout",
     "output_type": "stream",
     "text": [
      "[{u'_id': ObjectId('56491b33ea2e5e09913ae0eb'),\n",
      "  u'created': {u'changeset': u'20029239',\n",
      "               u'timestamp': u'2014-01-16T08:18:23Z',\n",
      "               u'uid': u'646006',\n",
      "               u'user': u'Irfan Muhammad',\n",
      "               u'version': u'13'},\n",
      "  u'id': u'29938967',\n",
      "  u'pos': [-6.1803929, 106.8226699],\n",
      "  u'type': u'node'},\n",
      " {u'_id': ObjectId('56491b34ea2e5e09913ae0ec'),\n",
      "  u'created': {u'changeset': u'20029239',\n",
      "               u'timestamp': u'2014-01-16T08:18:23Z',\n",
      "               u'uid': u'646006',\n",
      "               u'user': u'Irfan Muhammad',\n",
      "               u'version': u'28'},\n",
      "  u'id': u'29938968',\n",
      "  u'pos': [-6.1803972, 106.8231199],\n",
      "  u'type': u'node'}]\n"
     ]
    }
   ],
   "source": [
    "pipeline = [\n",
    "    {'$limit' : 2}\n",
    "]\n",
    "pprint.pprint(db.jktosm.aggregate(pipeline)['result'])"
   ]
  },
  {
   "cell_type": "markdown",
   "metadata": {},
   "source": [
    "# Overview of the data"
   ]
  },
  {
   "cell_type": "markdown",
   "metadata": {},
   "source": [
    "You can see the filesize about the dataset."
   ]
  },
  {
   "cell_type": "code",
   "execution_count": 1,
   "metadata": {
    "collapsed": false
   },
   "outputs": [
    {
     "name": "stdout",
     "output_type": "stream",
     "text": [
      "-rwxrwxrwx@ 1 Jon  staff    79M Nov  5  2014 \u001b[31mdataset/jakarta.osm\u001b[m\u001b[m\r\n",
      "-rwxrwxrwx  1 Jon  staff    80M Nov 20  2014 \u001b[31mdataset/jakarta_audit.osm\u001b[m\u001b[m\r\n",
      "-rwxrwxrwx  1 Jon  staff    89M Nov 20  2014 \u001b[31mdataset/jakarta_audit.osm.json\u001b[m\u001b[m\r\n"
     ]
    }
   ],
   "source": [
    "!ls -lh dataset/jakarta*"
   ]
  },
  {
   "cell_type": "markdown",
   "metadata": {},
   "source": [
    "### Show 5 data that have street "
   ]
  },
  {
   "cell_type": "code",
   "execution_count": 17,
   "metadata": {
    "collapsed": false
   },
   "outputs": [
    {
     "name": "stdout",
     "output_type": "stream",
     "text": [
      "[{u'_id': ObjectId('56491b4dea2e5e09913bab80'),\n",
      "  u'address': {u'housename': u'Gandaria City',\n",
      "               u'postcode': u'12240',\n",
      "               u'street': u'Jalan Sultan Iskandar Muda Kebayoran Lama'},\n",
      "  u'created': {u'changeset': u'7760855',\n",
      "               u'timestamp': u'2011-04-04T04:16:03Z',\n",
      "               u'uid': u'431638',\n",
      "               u'user': u'esoedjasa',\n",
      "               u'version': u'1'},\n",
      "  u'id': u'1231819753',\n",
      "  u'name': u'Gandaria City',\n",
      "  u'pos': [-6.2446998, 106.7832904],\n",
      "  u'shop': u'supermarket',\n",
      "  u'type': u'node'}]\n"
     ]
    }
   ],
   "source": [
    "pipeline = [\n",
    "            {'$match': {'address.street':{'$exists':1}}},\n",
    "            {'$limit' : 1}\n",
    "]\n",
    "result  = db.jktosm.aggregate(pipeline)['result']\n",
    "pprint.pprint(result)"
   ]
  },
  {
   "cell_type": "markdown",
   "metadata": {},
   "source": [
    "### Show the top 5 of contributed users"
   ]
  },
  {
   "cell_type": "markdown",
   "metadata": {},
   "source": [
    "We also can find the top 5 contributed users. These users are count by how they created the point in the map, and sort descent "
   ]
  },
  {
   "cell_type": "code",
   "execution_count": 45,
   "metadata": {
    "collapsed": false
   },
   "outputs": [
    {
     "name": "stdout",
     "output_type": "stream",
     "text": [
      "[{u'_id': u'Firman Hadi', u'count': 113770},\n",
      " {u'_id': u'dimdim02', u'count': 38860},\n",
      " {u'_id': u'riangga_miko', u'count': 36695},\n",
      " {u'_id': u'raniedwianugrah', u'count': 30388},\n",
      " {u'_id': u'Alex Rollin', u'count': 26496}]\n"
     ]
    }
   ],
   "source": [
    "pipeline = [\n",
    "            {'$match': {'created.user':{'$exists':1}}},\n",
    "            {'$group': {'_id':'$created.user',\n",
    "                        'count':{'$sum':1}}},\n",
    "            {'$sort': {'count':-1}},\n",
    "            {'$limit' : 5}\n",
    "]\n",
    "result  = db.jktosm.aggregate(pipeline)['result']\n",
    "pprint.pprint(result)"
   ]
  },
  {
   "cell_type": "markdown",
   "metadata": {},
   "source": [
    "### Show the restaurant's name, the food they serve, and contact number"
   ]
  },
  {
   "cell_type": "code",
   "execution_count": 18,
   "metadata": {
    "collapsed": false
   },
   "outputs": [
    {
     "name": "stdout",
     "output_type": "stream",
     "text": [
      "[{u'_id': u'Warung Tekko',\n",
      "  u'contact': u'+62 21 5263137',\n",
      "  u'cuisine': u'Indonesian'},\n",
      " {u'_id': u'YaUdah bistro',\n",
      "  u'contact': u'+62213140343',\n",
      "  u'cuisine': u'german'},\n",
      " {u'_id': u'Wabito Ramen',\n",
      "  u'contact': u'62 21 3923810',\n",
      "  u'cuisine': u'japanese'},\n",
      " {u'_id': u'Goma ramen', u'contact': u'081807217074', u'cuisine': u'japanese'},\n",
      " {u'_id': u'Bluegrass',\n",
      "  u'contact': u'+62 21 29941660',\n",
      "  u'cuisine': u'american'}]\n"
     ]
    }
   ],
   "source": [
    "pipeline = [\n",
    "            {'$match': {'amenity':'restaurant',\n",
    "                        'name':{'$exists':1},\n",
    "                        'cuisine':{'$exists':1},\n",
    "                        'phone':{'$exists':1}\n",
    "                       }\n",
    "            },\n",
    "            {'$project':{'_id':'$name',\n",
    "                         'cuisine':'$cuisine',\n",
    "                         'contact':'$phone'}}\n",
    "]\n",
    "result  = db.jktosm.aggregate(pipeline)['result']\n",
    "pprint.pprint(result)"
   ]
  },
  {
   "cell_type": "code",
   "execution_count": 108,
   "metadata": {
    "collapsed": false
   },
   "outputs": [
    {
     "name": "stdout",
     "output_type": "stream",
     "text": [
      "[{u'_id': u'+62 21 5263137'},\n",
      " {u'_id': u'14045'},\n",
      " {u'_id': u'+62 21 78834966'},\n",
      " {u'_id': u'+62 21 500505'},\n",
      " {u'_id': u'+62 21 3140343'},\n",
      " {u'_id': u'+62 21 7200981209'},\n",
      " {u'_id': u'+62 21 30422222'},\n",
      " {u'_id': u'+62 21 57851819'},\n",
      " {u'_id': u'+62 21 3923810'},\n",
      " {u'_id': u'+62 21 7238227'},\n",
      " {u'_id': u'+62 21 6338288'},\n",
      " {u'_id': u'+62 21 7180317'},\n",
      " {u'_id': u'+62 81807217074'},\n",
      " {u'_id': u'+62 81380748996'},\n",
      " {u'_id': u'+62 85742319136'},\n",
      " {u'_id': u'+62 8787553090'},\n",
      " {u'_id': u'+62 21 80872985'}]\n"
     ]
    }
   ],
   "source": [
    "pipeline = [\n",
    "            {'$match': {\n",
    "                        \n",
    "                        'phone':{'$exists':1}\n",
    "                       }\n",
    "            },\n",
    "            {'$project':{'_id':'$phone'}},\n",
    "            {'$limit': 20}\n",
    "]\n",
    "result  = db.jktosm.aggregate(pipeline)['result']\n",
    "pprint.pprint(result)"
   ]
  },
  {
   "cell_type": "markdown",
   "metadata": {},
   "source": [
    "# Other ideas about the datasets"
   ]
  },
  {
   "cell_type": "markdown",
   "metadata": {},
   "source": [
    "Earlier, we have found that not only most of the public places can be found, but it also  shared what kind of description about these places. Now that we have those data, we can create mobile apps that serve as an assistant where to point the users to their need. \n",
    "\n",
    "Mobile apps can be opened as a simple text box, and ask the users *\"What do you want?\"*. If for example, the users say *\"I want to eat Japanese food\"*, the assistant will find Japanese cuisine restaurant within 1 mile radius. Or if the users ask *\"I want to eat chicken (Indonesia: Ayam)\"*, the assistant will find restaurant's name with 'Ayam' in it. They will provide these restaurants based on the map location, with user location at the exact center of the map. If the user click on one restaurant, it will be given some pop up that give the description of the restaurant. For example, their kind of cuisine, contact number, and ask users two options, whether they want to be given direction to the restaurant or they want to call the contact number.\n",
    "\n",
    "Not only restaurant, but other kind of public places. Watch movies, go to gym center, finding a flower, etc. This is a lot of possibilities, but this is not without any risk.\n",
    "\n",
    "Since this is an open data, that means everyone could become the ones who edit it. What about someone gives false information, and the contact number is a wrong number? Or what about the fake address? A consumer can reach into the location by hours (and in Jakarta, the most traffic jam city in the world, it's possible), turns out that's not the place they're looking for. It will be fatal to our company. So it's good thing to do cross-validation.\n",
    "\n",
    "I believe that we should do some checking. OpenstreetMap has also some validation check, [Osmose](http://wiki.openstreetmap.org/wiki/Osmose). We can actually see that the location/data that we're looking for, in warning color level. If the location is red, or even yellow, we shouldn't incoporate it to our data. It's safe to assume that the green one is pass our validation check. But we also have to account for the fact that Osmose could have false positive.\n",
    "\n",
    "If we targetting for a big company that rely so much of OpenStreetMap data, it's a good thing to have a team that collaborate to make OpenStreetMap better. Besides of giving back to the community, the team responsible to also do any cross-check of any update location. Either using another map, or call the contact number confirming the owner of the location really has moved."
   ]
  },
  {
   "cell_type": "markdown",
   "metadata": {},
   "source": [
    "I actually submit the changes that I made back to the OSM. The changeset is here: http://osmhv.openstreetmap.de/changeset.jsp?id=26730562\n",
    "\n",
    "But the changes get reverted back, because I violated some rules that stated I can't change the map with machine code. If you see the changes, I actually made a lot of changes that the community will benefit."
   ]
  }
 ],
 "metadata": {
  "kernelspec": {
   "display_name": "Python 2",
   "language": "python",
   "name": "python2"
  },
  "language_info": {
   "codemirror_mode": {
    "name": "ipython",
    "version": 2
   },
   "file_extension": ".py",
   "mimetype": "text/x-python",
   "name": "python",
   "nbconvert_exporter": "python",
   "pygments_lexer": "ipython2",
   "version": "2.7.10"
  }
 },
 "nbformat": 4,
 "nbformat_minor": 0
}
