{
 "cells": [
  {
   "cell_type": "markdown",
   "metadata": {
    "slideshow": {
     "slide_type": "slide"
    }
   },
   "source": [
    "# Free Trial Screener\n",
    "\n",
    "* Udacity Experiment"
   ]
  },
  {
   "cell_type": "markdown",
   "metadata": {
    "slideshow": {
     "slide_type": "subslide"
    }
   },
   "source": [
    "![png](Final Project- Experiment Screenshot.png)"
   ]
  },
  {
   "cell_type": "markdown",
   "metadata": {
    "slideshow": {
     "slide_type": "subslide"
    }
   },
   "source": [
    "### Unit of diversion\n",
    "\n",
    "* Cookie\n"
   ]
  },
  {
   "cell_type": "markdown",
   "metadata": {
    "slideshow": {
     "slide_type": "slide"
    }
   },
   "source": [
    "# Experiment Design"
   ]
  },
  {
   "cell_type": "markdown",
   "metadata": {
    "slideshow": {
     "slide_type": "subslide"
    }
   },
   "source": [
    "# Metric Choice"
   ]
  },
  {
   "cell_type": "markdown",
   "metadata": {
    "slideshow": {
     "slide_type": "fragment"
    }
   },
   "source": [
    "## Invariant Metrics\n",
    "\n",
    "* Number of cookies\n",
    "* Number of clicks\n",
    "* Click through probability"
   ]
  },
  {
   "cell_type": "markdown",
   "metadata": {
    "slideshow": {
     "slide_type": "fragment"
    }
   },
   "source": [
    "## Evaluation Metrics\n",
    "\n",
    "* Gross Conversion\n",
    "* Net Conversion"
   ]
  },
  {
   "cell_type": "markdown",
   "metadata": {
    "slideshow": {
     "slide_type": "subslide"
    }
   },
   "source": [
    "## Initial Hypothesis\n",
    "\n",
    "* “..this might set clearer expectations for students upfront, thus reducing the number of frustrated students who left the free trial because they didn't have enough time”\n",
    "* ”..without significantly reducing the number of students to continue past the free trial and eventually complete the course. “"
   ]
  },
  {
   "cell_type": "markdown",
   "metadata": {
    "slideshow": {
     "slide_type": "subslide"
    }
   },
   "source": [
    "## Measuring Standard Deviation\n",
    "\n",
    "* Gross Conversion: 0.02\n",
    "* Net Conversion 0.0156\n",
    "\n",
    "Expect analytical variance match empirical variance because unit of analysis and unit of diversion is same.\n"
   ]
  },
  {
   "cell_type": "markdown",
   "metadata": {
    "slideshow": {
     "slide_type": "subslide"
    }
   },
   "source": [
    "## Sizing"
   ]
  },
  {
   "cell_type": "markdown",
   "metadata": {
    "slideshow": {
     "slide_type": "fragment"
    }
   },
   "source": [
    "### Number of Samples vs. Power\n",
    "\n",
    "\n",
    "* Gross Conversion. Baseline: 0.20625 dmin: 0.01 = 25.839 cookies who clicks.\n",
    "* Net Conversion. Baseline: 0.1093125 dmin: 0.0075 = 27,411 cookies who clicks.\n",
    "* Not using Bonferroni correction.\n",
    "* Using alpha = 0.05 and beta 0.2\n",
    "\n",
    "\n",
    "The pageviews needed then will be:\n",
    "685275 days.\n"
   ]
  },
  {
   "cell_type": "markdown",
   "metadata": {
    "slideshow": {
     "slide_type": "fragment"
    }
   },
   "source": [
    "### Duration vs. Exposure\n",
    "\n",
    "* Fraction: 0.8 (*Low risk*)\n",
    "* Duration: 22 days (*40000 pageviews/day*)\n",
    "\n",
    "\n"
   ]
  },
  {
   "cell_type": "code",
   "execution_count": null,
   "metadata": {
    "collapsed": true
   },
   "outputs": [],
   "source": []
  }
 ],
 "metadata": {
  "celltoolbar": "Slideshow",
  "kernelspec": {
   "display_name": "Python 3",
   "language": "python",
   "name": "python3"
  },
  "language_info": {
   "codemirror_mode": {
    "name": "ipython",
    "version": 3
   },
   "file_extension": ".py",
   "mimetype": "text/x-python",
   "name": "python",
   "nbconvert_exporter": "python",
   "pygments_lexer": "ipython3",
   "version": "3.5.0"
  }
 },
 "nbformat": 4,
 "nbformat_minor": 0
}
