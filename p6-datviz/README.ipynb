{
 "cells": [
  {
   "cell_type": "code",
   "execution_count": 2,
   "metadata": {
    "collapsed": true
   },
   "outputs": [],
   "source": [
    "import pandas as pd"
   ]
  },
  {
   "cell_type": "code",
   "execution_count": 3,
   "metadata": {
    "collapsed": true
   },
   "outputs": [],
   "source": [
    "df = pd.read_csv('data/airline_delay_causes_2015.csv')"
   ]
  },
  {
   "cell_type": "code",
   "execution_count": 4,
   "metadata": {
    "collapsed": false
   },
   "outputs": [
    {
     "data": {
      "text/html": [
       "<div>\n",
       "<table border=\"1\" class=\"dataframe\">\n",
       "  <thead>\n",
       "    <tr style=\"text-align: right;\">\n",
       "      <th></th>\n",
       "      <th>year</th>\n",
       "      <th>month</th>\n",
       "      <th>carrier</th>\n",
       "      <th>carrier_name</th>\n",
       "      <th>airport</th>\n",
       "      <th>airport_name</th>\n",
       "      <th>arr_flights</th>\n",
       "      <th>arr_del15</th>\n",
       "      <th>carrier_ct</th>\n",
       "      <th>weather_ct</th>\n",
       "      <th>...</th>\n",
       "      <th>late_aircraft_ct</th>\n",
       "      <th>arr_cancelled</th>\n",
       "      <th>arr_diverted</th>\n",
       "      <th>arr_delay</th>\n",
       "      <th>carrier_delay</th>\n",
       "      <th>weather_delay</th>\n",
       "      <th>nas_delay</th>\n",
       "      <th>security_delay</th>\n",
       "      <th>late_aircraft_delay</th>\n",
       "      <th>Unnamed: 21</th>\n",
       "    </tr>\n",
       "  </thead>\n",
       "  <tbody>\n",
       "    <tr>\n",
       "      <th>0</th>\n",
       "      <td>2015</td>\n",
       "      <td>1</td>\n",
       "      <td>AA</td>\n",
       "      <td>American Airlines Inc.</td>\n",
       "      <td>JFK</td>\n",
       "      <td>New York, NY: John F. Kennedy International</td>\n",
       "      <td>1369</td>\n",
       "      <td>322</td>\n",
       "      <td>73.31</td>\n",
       "      <td>8.44</td>\n",
       "      <td>...</td>\n",
       "      <td>103.47</td>\n",
       "      <td>86</td>\n",
       "      <td>3</td>\n",
       "      <td>20055</td>\n",
       "      <td>5273</td>\n",
       "      <td>999</td>\n",
       "      <td>6358</td>\n",
       "      <td>0</td>\n",
       "      <td>7425</td>\n",
       "      <td>NaN</td>\n",
       "    </tr>\n",
       "    <tr>\n",
       "      <th>1</th>\n",
       "      <td>2015</td>\n",
       "      <td>1</td>\n",
       "      <td>AA</td>\n",
       "      <td>American Airlines Inc.</td>\n",
       "      <td>LAX</td>\n",
       "      <td>Los Angeles, CA: Los Angeles International</td>\n",
       "      <td>2633</td>\n",
       "      <td>445</td>\n",
       "      <td>157.17</td>\n",
       "      <td>25.21</td>\n",
       "      <td>...</td>\n",
       "      <td>153.43</td>\n",
       "      <td>41</td>\n",
       "      <td>4</td>\n",
       "      <td>25261</td>\n",
       "      <td>10914</td>\n",
       "      <td>1460</td>\n",
       "      <td>3293</td>\n",
       "      <td>42</td>\n",
       "      <td>9552</td>\n",
       "      <td>NaN</td>\n",
       "    </tr>\n",
       "    <tr>\n",
       "      <th>2</th>\n",
       "      <td>2015</td>\n",
       "      <td>1</td>\n",
       "      <td>AA</td>\n",
       "      <td>American Airlines Inc.</td>\n",
       "      <td>DFW</td>\n",
       "      <td>Dallas/Fort Worth, TX: Dallas/Fort Worth Inter...</td>\n",
       "      <td>12466</td>\n",
       "      <td>2463</td>\n",
       "      <td>645.29</td>\n",
       "      <td>64.66</td>\n",
       "      <td>...</td>\n",
       "      <td>982.99</td>\n",
       "      <td>203</td>\n",
       "      <td>6</td>\n",
       "      <td>167313</td>\n",
       "      <td>66714</td>\n",
       "      <td>5055</td>\n",
       "      <td>24137</td>\n",
       "      <td>123</td>\n",
       "      <td>71284</td>\n",
       "      <td>NaN</td>\n",
       "    </tr>\n",
       "    <tr>\n",
       "      <th>3</th>\n",
       "      <td>2015</td>\n",
       "      <td>1</td>\n",
       "      <td>AA</td>\n",
       "      <td>American Airlines Inc.</td>\n",
       "      <td>OGG</td>\n",
       "      <td>Kahului, HI: Kahului Airport</td>\n",
       "      <td>100</td>\n",
       "      <td>22</td>\n",
       "      <td>11.53</td>\n",
       "      <td>0.00</td>\n",
       "      <td>...</td>\n",
       "      <td>4.00</td>\n",
       "      <td>3</td>\n",
       "      <td>0</td>\n",
       "      <td>1776</td>\n",
       "      <td>1207</td>\n",
       "      <td>0</td>\n",
       "      <td>188</td>\n",
       "      <td>0</td>\n",
       "      <td>381</td>\n",
       "      <td>NaN</td>\n",
       "    </tr>\n",
       "    <tr>\n",
       "      <th>4</th>\n",
       "      <td>2015</td>\n",
       "      <td>1</td>\n",
       "      <td>AA</td>\n",
       "      <td>American Airlines Inc.</td>\n",
       "      <td>HNL</td>\n",
       "      <td>Honolulu, HI: Honolulu International</td>\n",
       "      <td>169</td>\n",
       "      <td>50</td>\n",
       "      <td>28.69</td>\n",
       "      <td>0.00</td>\n",
       "      <td>...</td>\n",
       "      <td>6.27</td>\n",
       "      <td>0</td>\n",
       "      <td>4</td>\n",
       "      <td>4175</td>\n",
       "      <td>2602</td>\n",
       "      <td>0</td>\n",
       "      <td>523</td>\n",
       "      <td>0</td>\n",
       "      <td>1050</td>\n",
       "      <td>NaN</td>\n",
       "    </tr>\n",
       "  </tbody>\n",
       "</table>\n",
       "<p>5 rows × 22 columns</p>\n",
       "</div>"
      ],
      "text/plain": [
       "   year   month carrier            carrier_name airport  \\\n",
       "0  2015       1      AA  American Airlines Inc.     JFK   \n",
       "1  2015       1      AA  American Airlines Inc.     LAX   \n",
       "2  2015       1      AA  American Airlines Inc.     DFW   \n",
       "3  2015       1      AA  American Airlines Inc.     OGG   \n",
       "4  2015       1      AA  American Airlines Inc.     HNL   \n",
       "\n",
       "                                        airport_name  arr_flights  arr_del15  \\\n",
       "0        New York, NY: John F. Kennedy International         1369        322   \n",
       "1         Los Angeles, CA: Los Angeles International         2633        445   \n",
       "2  Dallas/Fort Worth, TX: Dallas/Fort Worth Inter...        12466       2463   \n",
       "3                       Kahului, HI: Kahului Airport          100         22   \n",
       "4               Honolulu, HI: Honolulu International          169         50   \n",
       "\n",
       "   carrier_ct   weather_ct     ...       late_aircraft_ct  arr_cancelled  \\\n",
       "0       73.31         8.44     ...                 103.47             86   \n",
       "1      157.17        25.21     ...                 153.43             41   \n",
       "2      645.29        64.66     ...                 982.99            203   \n",
       "3       11.53         0.00     ...                   4.00              3   \n",
       "4       28.69         0.00     ...                   6.27              0   \n",
       "\n",
       "   arr_diverted   arr_delay   carrier_delay  weather_delay  nas_delay  \\\n",
       "0             3       20055            5273            999       6358   \n",
       "1             4       25261           10914           1460       3293   \n",
       "2             6      167313           66714           5055      24137   \n",
       "3             0        1776            1207              0        188   \n",
       "4             4        4175            2602              0        523   \n",
       "\n",
       "   security_delay  late_aircraft_delay  Unnamed: 21  \n",
       "0               0                 7425          NaN  \n",
       "1              42                 9552          NaN  \n",
       "2             123                71284          NaN  \n",
       "3               0                  381          NaN  \n",
       "4               0                 1050          NaN  \n",
       "\n",
       "[5 rows x 22 columns]"
      ]
     },
     "execution_count": 4,
     "metadata": {},
     "output_type": "execute_result"
    }
   ],
   "source": [
    "df.head()"
   ]
  },
  {
   "cell_type": "code",
   "execution_count": 19,
   "metadata": {
    "collapsed": false
   },
   "outputs": [],
   "source": [
    "df['month'] = df[' month'].map(lambda x: '0' +str(x)).tolist()"
   ]
  },
  {
   "cell_type": "code",
   "execution_count": 22,
   "metadata": {
    "collapsed": false
   },
   "outputs": [],
   "source": [
    "agg_month_sum = df.groupby('month',as_index=False).sum()"
   ]
  },
  {
   "cell_type": "code",
   "execution_count": 25,
   "metadata": {
    "collapsed": false
   },
   "outputs": [
    {
     "data": {
      "text/plain": [
       "Index([u'month', u'year', u' month', u'arr_flights', u'arr_del15',\n",
       "       u'carrier_ct', u' weather_ct', u'nas_ct', u'security_ct',\n",
       "       u'late_aircraft_ct', u'arr_cancelled', u'arr_diverted', u' arr_delay',\n",
       "       u' carrier_delay', u'weather_delay', u'nas_delay', u'security_delay',\n",
       "       u'late_aircraft_delay', u'Unnamed: 21'],\n",
       "      dtype='object')"
      ]
     },
     "execution_count": 25,
     "metadata": {},
     "output_type": "execute_result"
    }
   ],
   "source": [
    "agg_month_sum.columns"
   ]
  },
  {
   "cell_type": "code",
   "execution_count": 40,
   "metadata": {
    "collapsed": false
   },
   "outputs": [
    {
     "data": {
      "text/html": [
       "<div>\n",
       "<table border=\"1\" class=\"dataframe\">\n",
       "  <thead>\n",
       "    <tr style=\"text-align: right;\">\n",
       "      <th></th>\n",
       "      <th>month</th>\n",
       "      <th>year</th>\n",
       "      <th>month</th>\n",
       "      <th>arr_flights</th>\n",
       "      <th>arr_del15</th>\n",
       "      <th>carrier_ct</th>\n",
       "      <th>weather_ct</th>\n",
       "      <th>nas_ct</th>\n",
       "      <th>security_ct</th>\n",
       "      <th>late_aircraft_ct</th>\n",
       "      <th>arr_cancelled</th>\n",
       "      <th>arr_diverted</th>\n",
       "      <th>arr_delay</th>\n",
       "      <th>carrier_delay</th>\n",
       "      <th>weather_delay</th>\n",
       "      <th>nas_delay</th>\n",
       "      <th>security_delay</th>\n",
       "      <th>late_aircraft_delay</th>\n",
       "      <th>Unnamed: 21</th>\n",
       "      <th>on_time_flights</th>\n",
       "    </tr>\n",
       "  </thead>\n",
       "  <tbody>\n",
       "    <tr>\n",
       "      <th>0</th>\n",
       "      <td>01</td>\n",
       "      <td>2367625</td>\n",
       "      <td>1175</td>\n",
       "      <td>469968</td>\n",
       "      <td>95951</td>\n",
       "      <td>28267.23</td>\n",
       "      <td>3311.58</td>\n",
       "      <td>29878.63</td>\n",
       "      <td>148.22</td>\n",
       "      <td>34345.34</td>\n",
       "      <td>11982</td>\n",
       "      <td>973</td>\n",
       "      <td>5439862</td>\n",
       "      <td>1708155</td>\n",
       "      <td>263087</td>\n",
       "      <td>1278055</td>\n",
       "      <td>6700</td>\n",
       "      <td>2183865</td>\n",
       "      <td>NaN</td>\n",
       "      <td>NaN</td>\n",
       "    </tr>\n",
       "    <tr>\n",
       "      <th>1</th>\n",
       "      <td>02</td>\n",
       "      <td>2335385</td>\n",
       "      <td>2318</td>\n",
       "      <td>429191</td>\n",
       "      <td>95179</td>\n",
       "      <td>27635.04</td>\n",
       "      <td>4580.42</td>\n",
       "      <td>29530.35</td>\n",
       "      <td>111.35</td>\n",
       "      <td>33322.07</td>\n",
       "      <td>20517</td>\n",
       "      <td>1011</td>\n",
       "      <td>5635596</td>\n",
       "      <td>1712660</td>\n",
       "      <td>411265</td>\n",
       "      <td>1349173</td>\n",
       "      <td>4580</td>\n",
       "      <td>2157918</td>\n",
       "      <td>NaN</td>\n",
       "      <td>NaN</td>\n",
       "    </tr>\n",
       "    <tr>\n",
       "      <th>2</th>\n",
       "      <td>03</td>\n",
       "      <td>2333370</td>\n",
       "      <td>3474</td>\n",
       "      <td>504312</td>\n",
       "      <td>95452</td>\n",
       "      <td>30094.13</td>\n",
       "      <td>2348.12</td>\n",
       "      <td>28283.47</td>\n",
       "      <td>149.04</td>\n",
       "      <td>34577.51</td>\n",
       "      <td>11002</td>\n",
       "      <td>1172</td>\n",
       "      <td>5438910</td>\n",
       "      <td>1818680</td>\n",
       "      <td>228661</td>\n",
       "      <td>1228893</td>\n",
       "      <td>6586</td>\n",
       "      <td>2156090</td>\n",
       "      <td>NaN</td>\n",
       "      <td>NaN</td>\n",
       "    </tr>\n",
       "    <tr>\n",
       "      <th>3</th>\n",
       "      <td>04</td>\n",
       "      <td>2325310</td>\n",
       "      <td>4616</td>\n",
       "      <td>485151</td>\n",
       "      <td>82247</td>\n",
       "      <td>24683.00</td>\n",
       "      <td>2772.98</td>\n",
       "      <td>26000.96</td>\n",
       "      <td>96.66</td>\n",
       "      <td>28693.24</td>\n",
       "      <td>4520</td>\n",
       "      <td>1380</td>\n",
       "      <td>4619308</td>\n",
       "      <td>1490594</td>\n",
       "      <td>221590</td>\n",
       "      <td>1118027</td>\n",
       "      <td>3660</td>\n",
       "      <td>1785437</td>\n",
       "      <td>NaN</td>\n",
       "      <td>NaN</td>\n",
       "    </tr>\n",
       "    <tr>\n",
       "      <th>4</th>\n",
       "      <td>05</td>\n",
       "      <td>2299115</td>\n",
       "      <td>5705</td>\n",
       "      <td>496993</td>\n",
       "      <td>89645</td>\n",
       "      <td>26388.30</td>\n",
       "      <td>3639.07</td>\n",
       "      <td>26555.12</td>\n",
       "      <td>142.48</td>\n",
       "      <td>32919.97</td>\n",
       "      <td>5694</td>\n",
       "      <td>1658</td>\n",
       "      <td>5437359</td>\n",
       "      <td>1667920</td>\n",
       "      <td>336555</td>\n",
       "      <td>1254652</td>\n",
       "      <td>5711</td>\n",
       "      <td>2172521</td>\n",
       "      <td>NaN</td>\n",
       "      <td>NaN</td>\n",
       "    </tr>\n",
       "  </tbody>\n",
       "</table>\n",
       "</div>"
      ],
      "text/plain": [
       "  month     year   month  arr_flights  arr_del15  carrier_ct   weather_ct  \\\n",
       "0    01  2367625    1175       469968      95951    28267.23      3311.58   \n",
       "1    02  2335385    2318       429191      95179    27635.04      4580.42   \n",
       "2    03  2333370    3474       504312      95452    30094.13      2348.12   \n",
       "3    04  2325310    4616       485151      82247    24683.00      2772.98   \n",
       "4    05  2299115    5705       496993      89645    26388.30      3639.07   \n",
       "\n",
       "     nas_ct  security_ct  late_aircraft_ct  arr_cancelled  arr_diverted  \\\n",
       "0  29878.63       148.22          34345.34          11982           973   \n",
       "1  29530.35       111.35          33322.07          20517          1011   \n",
       "2  28283.47       149.04          34577.51          11002          1172   \n",
       "3  26000.96        96.66          28693.24           4520          1380   \n",
       "4  26555.12       142.48          32919.97           5694          1658   \n",
       "\n",
       "    arr_delay   carrier_delay  weather_delay  nas_delay  security_delay  \\\n",
       "0     5439862         1708155         263087    1278055            6700   \n",
       "1     5635596         1712660         411265    1349173            4580   \n",
       "2     5438910         1818680         228661    1228893            6586   \n",
       "3     4619308         1490594         221590    1118027            3660   \n",
       "4     5437359         1667920         336555    1254652            5711   \n",
       "\n",
       "   late_aircraft_delay  Unnamed: 21  on_time_flights  \n",
       "0              2183865          NaN              NaN  \n",
       "1              2157918          NaN              NaN  \n",
       "2              2156090          NaN              NaN  \n",
       "3              1785437          NaN              NaN  \n",
       "4              2172521          NaN              NaN  "
      ]
     },
     "execution_count": 40,
     "metadata": {},
     "output_type": "execute_result"
    }
   ],
   "source": [
    "agg_month_sum.head()"
   ]
  },
  {
   "cell_type": "code",
   "execution_count": 31,
   "metadata": {
    "collapsed": false
   },
   "outputs": [],
   "source": [
    "not_ontime_flights  = ['arr_cancelled','arr_diverted','arr_del15']\n",
    "agg_month_sum['on_time_flights'] = agg_month_sum['arr_flights'] - agg_month_sum[not_ontime_flights].sum()"
   ]
  },
  {
   "cell_type": "code",
   "execution_count": 83,
   "metadata": {
    "collapsed": true
   },
   "outputs": [],
   "source": [
    "agg_month_sum.to_csv('data/agg_month_sum_airlines_2015.csv')"
   ]
  },
  {
   "cell_type": "code",
   "execution_count": 48,
   "metadata": {
    "collapsed": false
   },
   "outputs": [
    {
     "data": {
      "text/plain": [
       "array(['American Airlines Inc.', 'Alaska Airlines Inc.', 'JetBlue Airways',\n",
       "       'Delta Air Lines Inc.', 'ExpressJet Airlines Inc.',\n",
       "       'Frontier Airlines Inc.', 'Hawaiian Airlines Inc.', 'Envoy Air',\n",
       "       'Spirit Air Lines', 'SkyWest Airlines Inc.',\n",
       "       'United Air Lines Inc.', 'US Airways Inc.', 'Virgin America',\n",
       "       'Southwest Airlines Co.'], dtype=object)"
      ]
     },
     "execution_count": 48,
     "metadata": {},
     "output_type": "execute_result"
    }
   ],
   "source": [
    "df['carrier_name'].unique()"
   ]
  },
  {
   "cell_type": "code",
   "execution_count": null,
   "metadata": {
    "collapsed": true
   },
   "outputs": [],
   "source": [
    "agg_month_sum.ix[5,'custom_month'] = 'Jun, (UA, \"dispatching information\")'\n",
    "agg_month_sum.ix[4,'custom_month'] = 'May, (UA, \"automation issue\")'"
   ]
  },
  {
   "cell_type": "code",
   "execution_count": 72,
   "metadata": {
    "collapsed": false
   },
   "outputs": [],
   "source": [
    "agg_month_sum['custom_month'] = agg_month_sum['month'].map(lambda x: arrow.get('2015-'+x, \"YYYY-MM\").format('MMM'))"
   ]
  },
  {
   "cell_type": "code",
   "execution_count": 82,
   "metadata": {
    "collapsed": false
   },
   "outputs": [],
   "source": [
    "agg_month_sum.ix[5,'custom_month'] = 'Jun, (UA, \"dispatching information\")'\n",
    "agg_month_sum.ix[4,'custom_month'] = 'May, (UA, \"automation issue\")'"
   ]
  },
  {
   "cell_type": "code",
   "execution_count": 68,
   "metadata": {
    "collapsed": false
   },
   "outputs": [],
   "source": [
    "arr1 = arrow.get('2015-01', \"YYYY-MM\")"
   ]
  },
  {
   "cell_type": "code",
   "execution_count": null,
   "metadata": {
    "collapsed": true
   },
   "outputs": [],
   "source": []
  }
 ],
 "metadata": {
  "kernelspec": {
   "display_name": "Python 2",
   "language": "python",
   "name": "python2"
  },
  "language_info": {
   "codemirror_mode": {
    "name": "ipython",
    "version": 2
   },
   "file_extension": ".py",
   "mimetype": "text/x-python",
   "name": "python",
   "nbconvert_exporter": "python",
   "pygments_lexer": "ipython2",
   "version": "2.7.10"
  }
 },
 "nbformat": 4,
 "nbformat_minor": 0
}
