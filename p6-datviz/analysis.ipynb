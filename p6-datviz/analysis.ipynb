{
 "cells": [
  {
   "cell_type": "markdown",
   "metadata": {},
   "source": [
    "# Summary"
   ]
  },
  {
   "cell_type": "code",
   "execution_count": 1,
   "metadata": {
    "collapsed": false
   },
   "outputs": [
    {
     "data": {
      "text/html": [
       "<div>\n",
       "<table border=\"1\" class=\"dataframe\">\n",
       "  <thead>\n",
       "    <tr style=\"text-align: right;\">\n",
       "      <th></th>\n",
       "      <th>year</th>\n",
       "      <th>month</th>\n",
       "      <th>carrier</th>\n",
       "      <th>carrier_name</th>\n",
       "      <th>airport</th>\n",
       "      <th>airport_name</th>\n",
       "      <th>arr_flights</th>\n",
       "      <th>arr_del15</th>\n",
       "      <th>carrier_ct</th>\n",
       "      <th>weather_ct</th>\n",
       "      <th>...</th>\n",
       "      <th>late_aircraft_ct</th>\n",
       "      <th>arr_cancelled</th>\n",
       "      <th>arr_diverted</th>\n",
       "      <th>arr_delay</th>\n",
       "      <th>carrier_delay</th>\n",
       "      <th>weather_delay</th>\n",
       "      <th>nas_delay</th>\n",
       "      <th>security_delay</th>\n",
       "      <th>late_aircraft_delay</th>\n",
       "      <th>Unnamed: 21</th>\n",
       "    </tr>\n",
       "  </thead>\n",
       "  <tbody>\n",
       "    <tr>\n",
       "      <th>0</th>\n",
       "      <td>2015</td>\n",
       "      <td>1</td>\n",
       "      <td>AA</td>\n",
       "      <td>American Airlines Inc.</td>\n",
       "      <td>JFK</td>\n",
       "      <td>New York, NY: John F. Kennedy International</td>\n",
       "      <td>1369</td>\n",
       "      <td>322</td>\n",
       "      <td>73.31</td>\n",
       "      <td>8.44</td>\n",
       "      <td>...</td>\n",
       "      <td>103.47</td>\n",
       "      <td>86</td>\n",
       "      <td>3</td>\n",
       "      <td>20055</td>\n",
       "      <td>5273</td>\n",
       "      <td>999</td>\n",
       "      <td>6358</td>\n",
       "      <td>0</td>\n",
       "      <td>7425</td>\n",
       "      <td>NaN</td>\n",
       "    </tr>\n",
       "    <tr>\n",
       "      <th>1</th>\n",
       "      <td>2015</td>\n",
       "      <td>1</td>\n",
       "      <td>AA</td>\n",
       "      <td>American Airlines Inc.</td>\n",
       "      <td>LAX</td>\n",
       "      <td>Los Angeles, CA: Los Angeles International</td>\n",
       "      <td>2633</td>\n",
       "      <td>445</td>\n",
       "      <td>157.17</td>\n",
       "      <td>25.21</td>\n",
       "      <td>...</td>\n",
       "      <td>153.43</td>\n",
       "      <td>41</td>\n",
       "      <td>4</td>\n",
       "      <td>25261</td>\n",
       "      <td>10914</td>\n",
       "      <td>1460</td>\n",
       "      <td>3293</td>\n",
       "      <td>42</td>\n",
       "      <td>9552</td>\n",
       "      <td>NaN</td>\n",
       "    </tr>\n",
       "    <tr>\n",
       "      <th>2</th>\n",
       "      <td>2015</td>\n",
       "      <td>1</td>\n",
       "      <td>AA</td>\n",
       "      <td>American Airlines Inc.</td>\n",
       "      <td>DFW</td>\n",
       "      <td>Dallas/Fort Worth, TX: Dallas/Fort Worth Inter...</td>\n",
       "      <td>12466</td>\n",
       "      <td>2463</td>\n",
       "      <td>645.29</td>\n",
       "      <td>64.66</td>\n",
       "      <td>...</td>\n",
       "      <td>982.99</td>\n",
       "      <td>203</td>\n",
       "      <td>6</td>\n",
       "      <td>167313</td>\n",
       "      <td>66714</td>\n",
       "      <td>5055</td>\n",
       "      <td>24137</td>\n",
       "      <td>123</td>\n",
       "      <td>71284</td>\n",
       "      <td>NaN</td>\n",
       "    </tr>\n",
       "    <tr>\n",
       "      <th>3</th>\n",
       "      <td>2015</td>\n",
       "      <td>1</td>\n",
       "      <td>AA</td>\n",
       "      <td>American Airlines Inc.</td>\n",
       "      <td>OGG</td>\n",
       "      <td>Kahului, HI: Kahului Airport</td>\n",
       "      <td>100</td>\n",
       "      <td>22</td>\n",
       "      <td>11.53</td>\n",
       "      <td>0.00</td>\n",
       "      <td>...</td>\n",
       "      <td>4.00</td>\n",
       "      <td>3</td>\n",
       "      <td>0</td>\n",
       "      <td>1776</td>\n",
       "      <td>1207</td>\n",
       "      <td>0</td>\n",
       "      <td>188</td>\n",
       "      <td>0</td>\n",
       "      <td>381</td>\n",
       "      <td>NaN</td>\n",
       "    </tr>\n",
       "    <tr>\n",
       "      <th>4</th>\n",
       "      <td>2015</td>\n",
       "      <td>1</td>\n",
       "      <td>AA</td>\n",
       "      <td>American Airlines Inc.</td>\n",
       "      <td>HNL</td>\n",
       "      <td>Honolulu, HI: Honolulu International</td>\n",
       "      <td>169</td>\n",
       "      <td>50</td>\n",
       "      <td>28.69</td>\n",
       "      <td>0.00</td>\n",
       "      <td>...</td>\n",
       "      <td>6.27</td>\n",
       "      <td>0</td>\n",
       "      <td>4</td>\n",
       "      <td>4175</td>\n",
       "      <td>2602</td>\n",
       "      <td>0</td>\n",
       "      <td>523</td>\n",
       "      <td>0</td>\n",
       "      <td>1050</td>\n",
       "      <td>NaN</td>\n",
       "    </tr>\n",
       "  </tbody>\n",
       "</table>\n",
       "<p>5 rows × 22 columns</p>\n",
       "</div>"
      ],
      "text/plain": [
       "   year   month carrier            carrier_name airport  \\\n",
       "0  2015       1      AA  American Airlines Inc.     JFK   \n",
       "1  2015       1      AA  American Airlines Inc.     LAX   \n",
       "2  2015       1      AA  American Airlines Inc.     DFW   \n",
       "3  2015       1      AA  American Airlines Inc.     OGG   \n",
       "4  2015       1      AA  American Airlines Inc.     HNL   \n",
       "\n",
       "                                        airport_name  arr_flights  arr_del15  \\\n",
       "0        New York, NY: John F. Kennedy International         1369        322   \n",
       "1         Los Angeles, CA: Los Angeles International         2633        445   \n",
       "2  Dallas/Fort Worth, TX: Dallas/Fort Worth Inter...        12466       2463   \n",
       "3                       Kahului, HI: Kahului Airport          100         22   \n",
       "4               Honolulu, HI: Honolulu International          169         50   \n",
       "\n",
       "   carrier_ct   weather_ct     ...       late_aircraft_ct  arr_cancelled  \\\n",
       "0       73.31         8.44     ...                 103.47             86   \n",
       "1      157.17        25.21     ...                 153.43             41   \n",
       "2      645.29        64.66     ...                 982.99            203   \n",
       "3       11.53         0.00     ...                   4.00              3   \n",
       "4       28.69         0.00     ...                   6.27              0   \n",
       "\n",
       "   arr_diverted   arr_delay   carrier_delay  weather_delay  nas_delay  \\\n",
       "0             3       20055            5273            999       6358   \n",
       "1             4       25261           10914           1460       3293   \n",
       "2             6      167313           66714           5055      24137   \n",
       "3             0        1776            1207              0        188   \n",
       "4             4        4175            2602              0        523   \n",
       "\n",
       "   security_delay  late_aircraft_delay  Unnamed: 21  \n",
       "0               0                 7425          NaN  \n",
       "1              42                 9552          NaN  \n",
       "2             123                71284          NaN  \n",
       "3               0                  381          NaN  \n",
       "4               0                 1050          NaN  \n",
       "\n",
       "[5 rows x 22 columns]"
      ]
     },
     "execution_count": 1,
     "metadata": {},
     "output_type": "execute_result"
    }
   ],
   "source": [
    "import pandas as pd\n",
    "df = pd.read_csv('data/airline_delay_causes_2015.csv')\n",
    "df.head()"
   ]
  },
  {
   "cell_type": "code",
   "execution_count": 2,
   "metadata": {
    "collapsed": false
   },
   "outputs": [],
   "source": [
    "df.columns = df.columns.str.strip()"
   ]
  },
  {
   "cell_type": "markdown",
   "metadata": {},
   "source": [
    "Since month in dimple only except 2 digit format, change this"
   ]
  },
  {
   "cell_type": "code",
   "execution_count": 3,
   "metadata": {
    "collapsed": false
   },
   "outputs": [],
   "source": [
    "df['month'] = df['month'].map(lambda x: '0' + str(x) if len(str(x)) < 2 else x)"
   ]
  },
  {
   "cell_type": "code",
   "execution_count": 4,
   "metadata": {
    "collapsed": false
   },
   "outputs": [
    {
     "data": {
      "text/plain": [
       "array(['01', '02', '03', '04', '05', '06', '07', '08', '09', 10], dtype=object)"
      ]
     },
     "execution_count": 4,
     "metadata": {},
     "output_type": "execute_result"
    }
   ],
   "source": [
    "df.month.unique()"
   ]
  },
  {
   "cell_type": "markdown",
   "metadata": {},
   "source": [
    "We want to have total number of operations and total minutes delay. So we're going to aggregate it per month."
   ]
  },
  {
   "cell_type": "code",
   "execution_count": 10,
   "metadata": {
    "collapsed": false
   },
   "outputs": [],
   "source": [
    "agg_month_sum = df.groupby('month',as_index=False).sum()\n",
    "not_ontime_flights  = ['arr_cancelled','arr_diverted','arr_del15']\n",
    "agg_month_sum['on_time_flights'] = agg_month_sum['arr_flights'] - agg_month_sum[not_ontime_flights].sum(axis=1)\n",
    "\n",
    "delayed_columns = agg_month_sum.columns[agg_month_sum.columns.str.endswith('_delay')]\n",
    "agg_month_sum[delayed_columns] = agg_month_sum[delayed_columns].applymap(lambda x: x/60)\n",
    "\n",
    "agg_month_sum.to_csv('agg_month_sum_airlines_2015.csv_',index=False)"
   ]
  },
  {
   "cell_type": "code",
   "execution_count": 10,
   "metadata": {
    "collapsed": true
   },
   "outputs": [],
   "source": [
    "%matplotlib inline"
   ]
  },
  {
   "cell_type": "code",
   "execution_count": 16,
   "metadata": {
    "collapsed": false
   },
   "outputs": [
    {
     "data": {
      "text/plain": [
       "<matplotlib.axes._subplots.AxesSubplot at 0x10c0ea050>"
      ]
     },
     "execution_count": 16,
     "metadata": {},
     "output_type": "execute_result"
    },
    {
     "data": {
      "image/png": "[encoded data removed]",
      "text/plain": [
       "<matplotlib.figure.Figure at 0x1084eed90>"
      ]
     },
     "metadata": {},
     "output_type": "display_data"
    }
   ],
   "source": [
    "df[df.month == 6].groupby('carrier_name').sum().T.plot()"
   ]
  },
  {
   "cell_type": "code",
   "execution_count": 7,
   "metadata": {
    "collapsed": false
   },
   "outputs": [],
   "source": [
    "df['delay_minutes_per_delayed_flight'] = (df.carrier_delay / df.carrier_ct)\n",
    "date_df = df.groupby(['carrier_name','month'],as_index=False).delay_minutes_per_delayed_flight.mean()"
   ]
  },
  {
   "cell_type": "code",
   "execution_count": 9,
   "metadata": {
    "collapsed": false
   },
   "outputs": [],
   "source": [
    "date_df.to_csv('carr_delay_2015.csv_',index=False)"
   ]
  },
  {
   "cell_type": "code",
   "execution_count": null,
   "metadata": {
    "collapsed": true
   },
   "outputs": [],
   "source": []
  },
  {
   "cell_type": "code",
   "execution_count": 40,
   "metadata": {
    "collapsed": true
   },
   "outputs": [],
   "source": [
    "%matplotlib inline"
   ]
  },
  {
   "cell_type": "code",
   "execution_count": null,
   "metadata": {
    "collapsed": true
   },
   "outputs": [],
   "source": [
    "df.groupby('carr_delay_2015.csv_')"
   ]
  },
  {
   "cell_type": "code",
   "execution_count": 44,
   "metadata": {
    "collapsed": false
   },
   "outputs": [
    {
     "data": {
      "text/plain": [
       "61"
      ]
     },
     "execution_count": 44,
     "metadata": {},
     "output_type": "execute_result"
    }
   ],
   "source": [
    "1206011 / 19579"
   ]
  }
 ],
 "metadata": {
  "kernelspec": {
   "display_name": "Python 2",
   "language": "python",
   "name": "python2"
  },
  "language_info": {
   "codemirror_mode": {
    "name": "ipython",
    "version": 2
   },
   "file_extension": ".py",
   "mimetype": "text/x-python",
   "name": "python",
   "nbconvert_exporter": "python",
   "pygments_lexer": "ipython2",
   "version": "2.7.10"
  }
 },
 "nbformat": 4,
 "nbformat_minor": 0
}
