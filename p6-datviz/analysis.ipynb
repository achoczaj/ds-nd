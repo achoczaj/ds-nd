{
 "cells": [
  {
   "cell_type": "code",
   "execution_count": 1,
   "metadata": {
    "collapsed": true
   },
   "outputs": [],
   "source": [
    "import pandas as pd"
   ]
  },
  {
   "cell_type": "code",
   "execution_count": 16,
   "metadata": {
    "collapsed": true
   },
   "outputs": [],
   "source": [
    "df = pd.read_csv('data/airline_delay_causes_2015.csv')"
   ]
  },
  {
   "cell_type": "code",
   "execution_count": 7,
   "metadata": {
    "collapsed": false
   },
   "outputs": [
    {
     "data": {
      "text/plain": [
       "Index([u'year', u' month', u'carrier', u'carrier_name', u'airport',\n",
       "       u'airport_name', u'arr_flights', u'arr_del15', u'carrier_ct',\n",
       "       u' weather_ct', u'nas_ct', u'security_ct', u'late_aircraft_ct',\n",
       "       u'arr_cancelled', u'arr_diverted', u' arr_delay', u' carrier_delay',\n",
       "       u'weather_delay', u'nas_delay', u'security_delay',\n",
       "       u'late_aircraft_delay', u'Unnamed: 21'],\n",
       "      dtype='object')"
      ]
     },
     "execution_count": 7,
     "metadata": {},
     "output_type": "execute_result"
    }
   ],
   "source": [
    "df.columns"
   ]
  },
  {
   "cell_type": "code",
   "execution_count": 12,
   "metadata": {
    "collapsed": false
   },
   "outputs": [
    {
     "data": {
      "text/html": [
       "<div>\n",
       "<table border=\"1\" class=\"dataframe\">\n",
       "  <thead>\n",
       "    <tr style=\"text-align: right;\">\n",
       "      <th></th>\n",
       "      <th>year</th>\n",
       "      <th>month</th>\n",
       "      <th>carrier</th>\n",
       "      <th>carrier_name</th>\n",
       "      <th>airport</th>\n",
       "      <th>airport_name</th>\n",
       "      <th>arr_flights</th>\n",
       "      <th>arr_del15</th>\n",
       "      <th>carrier_ct</th>\n",
       "      <th>weather_ct</th>\n",
       "      <th>...</th>\n",
       "      <th>late_aircraft_ct</th>\n",
       "      <th>arr_cancelled</th>\n",
       "      <th>arr_diverted</th>\n",
       "      <th>arr_delay</th>\n",
       "      <th>carrier_delay</th>\n",
       "      <th>weather_delay</th>\n",
       "      <th>nas_delay</th>\n",
       "      <th>security_delay</th>\n",
       "      <th>late_aircraft_delay</th>\n",
       "      <th>Unnamed: 21</th>\n",
       "    </tr>\n",
       "  </thead>\n",
       "  <tbody>\n",
       "    <tr>\n",
       "      <th>0</th>\n",
       "      <td>2014</td>\n",
       "      <td>1</td>\n",
       "      <td>AA</td>\n",
       "      <td>American Airlines Inc.</td>\n",
       "      <td>JFK</td>\n",
       "      <td>New York, NY: John F. Kennedy International</td>\n",
       "      <td>1139</td>\n",
       "      <td>233</td>\n",
       "      <td>68.65</td>\n",
       "      <td>11.21</td>\n",
       "      <td>...</td>\n",
       "      <td>74.40</td>\n",
       "      <td>74</td>\n",
       "      <td>13</td>\n",
       "      <td>15754</td>\n",
       "      <td>3957</td>\n",
       "      <td>1575</td>\n",
       "      <td>3431</td>\n",
       "      <td>0</td>\n",
       "      <td>6791</td>\n",
       "      <td>NaN</td>\n",
       "    </tr>\n",
       "    <tr>\n",
       "      <th>1</th>\n",
       "      <td>2014</td>\n",
       "      <td>1</td>\n",
       "      <td>AA</td>\n",
       "      <td>American Airlines Inc.</td>\n",
       "      <td>LAX</td>\n",
       "      <td>Los Angeles, CA: Los Angeles International</td>\n",
       "      <td>2595</td>\n",
       "      <td>452</td>\n",
       "      <td>132.37</td>\n",
       "      <td>74.77</td>\n",
       "      <td>...</td>\n",
       "      <td>123.16</td>\n",
       "      <td>62</td>\n",
       "      <td>3</td>\n",
       "      <td>25283</td>\n",
       "      <td>7552</td>\n",
       "      <td>4600</td>\n",
       "      <td>4232</td>\n",
       "      <td>4</td>\n",
       "      <td>8895</td>\n",
       "      <td>NaN</td>\n",
       "    </tr>\n",
       "    <tr>\n",
       "      <th>2</th>\n",
       "      <td>2014</td>\n",
       "      <td>1</td>\n",
       "      <td>AA</td>\n",
       "      <td>American Airlines Inc.</td>\n",
       "      <td>DFW</td>\n",
       "      <td>Dallas/Fort Worth, TX: Dallas/Fort Worth Inter...</td>\n",
       "      <td>13135</td>\n",
       "      <td>2185</td>\n",
       "      <td>505.52</td>\n",
       "      <td>133.75</td>\n",
       "      <td>...</td>\n",
       "      <td>999.02</td>\n",
       "      <td>295</td>\n",
       "      <td>17</td>\n",
       "      <td>137289</td>\n",
       "      <td>49667</td>\n",
       "      <td>10471</td>\n",
       "      <td>18417</td>\n",
       "      <td>15</td>\n",
       "      <td>58719</td>\n",
       "      <td>NaN</td>\n",
       "    </tr>\n",
       "    <tr>\n",
       "      <th>3</th>\n",
       "      <td>2014</td>\n",
       "      <td>1</td>\n",
       "      <td>AA</td>\n",
       "      <td>American Airlines Inc.</td>\n",
       "      <td>OGG</td>\n",
       "      <td>Kahului, HI: Kahului Airport</td>\n",
       "      <td>92</td>\n",
       "      <td>20</td>\n",
       "      <td>9.57</td>\n",
       "      <td>0.00</td>\n",
       "      <td>...</td>\n",
       "      <td>0.49</td>\n",
       "      <td>0</td>\n",
       "      <td>0</td>\n",
       "      <td>812</td>\n",
       "      <td>563</td>\n",
       "      <td>0</td>\n",
       "      <td>230</td>\n",
       "      <td>0</td>\n",
       "      <td>19</td>\n",
       "      <td>NaN</td>\n",
       "    </tr>\n",
       "    <tr>\n",
       "      <th>4</th>\n",
       "      <td>2014</td>\n",
       "      <td>1</td>\n",
       "      <td>AA</td>\n",
       "      <td>American Airlines Inc.</td>\n",
       "      <td>HNL</td>\n",
       "      <td>Honolulu, HI: Honolulu International</td>\n",
       "      <td>176</td>\n",
       "      <td>50</td>\n",
       "      <td>14.46</td>\n",
       "      <td>5.65</td>\n",
       "      <td>...</td>\n",
       "      <td>9.93</td>\n",
       "      <td>0</td>\n",
       "      <td>1</td>\n",
       "      <td>2565</td>\n",
       "      <td>844</td>\n",
       "      <td>238</td>\n",
       "      <td>646</td>\n",
       "      <td>0</td>\n",
       "      <td>837</td>\n",
       "      <td>NaN</td>\n",
       "    </tr>\n",
       "  </tbody>\n",
       "</table>\n",
       "<p>5 rows × 22 columns</p>\n",
       "</div>"
      ],
      "text/plain": [
       "   year   month carrier            carrier_name airport  \\\n",
       "0  2014       1      AA  American Airlines Inc.     JFK   \n",
       "1  2014       1      AA  American Airlines Inc.     LAX   \n",
       "2  2014       1      AA  American Airlines Inc.     DFW   \n",
       "3  2014       1      AA  American Airlines Inc.     OGG   \n",
       "4  2014       1      AA  American Airlines Inc.     HNL   \n",
       "\n",
       "                                        airport_name  arr_flights  arr_del15  \\\n",
       "0        New York, NY: John F. Kennedy International         1139        233   \n",
       "1         Los Angeles, CA: Los Angeles International         2595        452   \n",
       "2  Dallas/Fort Worth, TX: Dallas/Fort Worth Inter...        13135       2185   \n",
       "3                       Kahului, HI: Kahului Airport           92         20   \n",
       "4               Honolulu, HI: Honolulu International          176         50   \n",
       "\n",
       "   carrier_ct   weather_ct     ...       late_aircraft_ct  arr_cancelled  \\\n",
       "0       68.65        11.21     ...                  74.40             74   \n",
       "1      132.37        74.77     ...                 123.16             62   \n",
       "2      505.52       133.75     ...                 999.02            295   \n",
       "3        9.57         0.00     ...                   0.49              0   \n",
       "4       14.46         5.65     ...                   9.93              0   \n",
       "\n",
       "   arr_diverted   arr_delay   carrier_delay  weather_delay  nas_delay  \\\n",
       "0            13       15754            3957           1575       3431   \n",
       "1             3       25283            7552           4600       4232   \n",
       "2            17      137289           49667          10471      18417   \n",
       "3             0         812             563              0        230   \n",
       "4             1        2565             844            238        646   \n",
       "\n",
       "   security_delay  late_aircraft_delay  Unnamed: 21  \n",
       "0               0                 6791          NaN  \n",
       "1               4                 8895          NaN  \n",
       "2              15                58719          NaN  \n",
       "3               0                   19          NaN  \n",
       "4               0                  837          NaN  \n",
       "\n",
       "[5 rows x 22 columns]"
      ]
     },
     "execution_count": 12,
     "metadata": {},
     "output_type": "execute_result"
    }
   ],
   "source": [
    "df.head()"
   ]
  },
  {
   "cell_type": "code",
   "execution_count": 9,
   "metadata": {
    "collapsed": false
   },
   "outputs": [
    {
     "data": {
      "text/plain": [
       "array([ 1,  2,  3,  4,  5,  6,  7,  8,  9, 10, 11, 12])"
      ]
     },
     "execution_count": 9,
     "metadata": {},
     "output_type": "execute_result"
    }
   ],
   "source": [
    "df[' month'].unique()"
   ]
  },
  {
   "cell_type": "code",
   "execution_count": null,
   "metadata": {
    "collapsed": true
   },
   "outputs": [],
   "source": []
  }
 ],
 "metadata": {
  "kernelspec": {
   "display_name": "Python 2",
   "language": "python",
   "name": "python2"
  },
  "language_info": {
   "codemirror_mode": {
    "name": "ipython",
    "version": 2
   },
   "file_extension": ".py",
   "mimetype": "text/x-python",
   "name": "python",
   "nbconvert_exporter": "python",
   "pygments_lexer": "ipython2",
   "version": "2.7.10"
  }
 },
 "nbformat": 4,
 "nbformat_minor": 0
}
